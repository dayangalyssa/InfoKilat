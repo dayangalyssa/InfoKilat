{
  "nbformat": 4,
  "nbformat_minor": 0,
  "metadata": {
    "colab": {
      "provenance": []
    },
    "kernelspec": {
      "name": "python3",
      "display_name": "Python 3"
    },
    "language_info": {
      "name": "python"
    }
  },
  "cells": [
    {
      "cell_type": "code",
      "source": [
        "import pandas as pd\n",
        "import matplotlib.pyplot as plt\n",
        "import seaborn as sns\n",
        "import re\n",
        "import kagglehub\n",
        "import os\n",
        "import matplotlib.pyplot as plt\n",
        "import seaborn as sns\n",
        "\n"
      ],
      "metadata": {
        "id": "lBQnD7lO1Z8J"
      },
      "execution_count": null,
      "outputs": []
    },
    {
      "cell_type": "code",
      "execution_count": 32,
      "metadata": {
        "colab": {
          "base_uri": "https://localhost:8080/"
        },
        "id": "ecNVCmEfyrHx",
        "outputId": "294ed0a9-dde9-4591-ef28-4815d14b8a38"
      },
      "outputs": [
        {
          "output_type": "stream",
          "name": "stdout",
          "text": [
            "Path to dataset files: /root/.cache/kagglehub/datasets/iqbalmaulana/indonesian-news-dataset/versions/1\n"
          ]
        }
      ],
      "source": [
        "import kagglehub\n",
        "\n",
        "# Download latest version\n",
        "path = kagglehub.dataset_download(\"iqbalmaulana/indonesian-news-dataset\")\n",
        "\n",
        "print(\"Path to dataset files:\", path)"
      ]
    },
    {
      "cell_type": "markdown",
      "source": [
        "# EDA"
      ],
      "metadata": {
        "id": "OCr2R6ShKJrv"
      }
    },
    {
      "cell_type": "code",
      "source": [
        "print(os.listdir(path))"
      ],
      "metadata": {
        "colab": {
          "base_uri": "https://localhost:8080/"
        },
        "id": "iZGj3vpIy-2X",
        "outputId": "e83974d6-08b8-464c-f2fc-86bb8d3641b2"
      },
      "execution_count": 33,
      "outputs": [
        {
          "output_type": "stream",
          "name": "stdout",
          "text": [
            "['data.csv']\n"
          ]
        }
      ]
    },
    {
      "cell_type": "code",
      "source": [
        "csv_path = os.path.join(path, 'data.csv')"
      ],
      "metadata": {
        "id": "BuS2vxFM1cmb"
      },
      "execution_count": 34,
      "outputs": []
    },
    {
      "cell_type": "code",
      "source": [
        "df = pd.read_csv(csv_path)"
      ],
      "metadata": {
        "id": "BCcpnSSW10Uh"
      },
      "execution_count": 35,
      "outputs": []
    },
    {
      "cell_type": "code",
      "source": [
        "print(df.head)"
      ],
      "metadata": {
        "colab": {
          "base_uri": "https://localhost:8080/"
        },
        "id": "cbvhuMvc14Qs",
        "outputId": "bc58d2d1-6f78-4356-c62c-fb366b53477d"
      },
      "execution_count": 36,
      "outputs": [
        {
          "output_type": "stream",
          "name": "stdout",
          "text": [
            "<bound method NDFrame.head of           id    source                                              title  \\\n",
            "0         83     tempo  Depo Plumpang Terbakar, Anggota DPR Minta Pert...   \n",
            "1         84     tempo  Jokowi Perintahkan Wapres Ma'ruf Amin Tinjau L...   \n",
            "2         85     tempo  HNW Mendukung Jamaah Umroh First Travel Dapatk...   \n",
            "3         86     tempo  Tim Dokkes Polri Telah Terima 14 Kantong Jenaz...   \n",
            "4         87     tempo  Bamsoet Ajak Komunitas Otomotif Kembangkan Per...   \n",
            "...      ...       ...                                                ...   \n",
            "32730  63563  kumparan  5 Hewan Aneh yang Hidup di Palung Mariana, Sal...   \n",
            "32731  63564  kumparan  Biadab! Guru SD di Banyuwangi Cabuli Siswinya,...   \n",
            "32732  63565  kumparan  Aji Santoso: Jakmania Perlakukan Persebaya den...   \n",
            "32733  63566  kumparan  Sopir Audi Cium Kaki Ibu & Istri Hamil Usai Si...   \n",
            "32734  63567     tempo          Ini Besaran Biaya Haji 2023 per Embarkasi   \n",
            "\n",
            "                                                   image  \\\n",
            "0      https://statik.tempo.co/data/2023/03/04/id_118...   \n",
            "1      https://statik.tempo.co/data/2023/03/04/id_118...   \n",
            "2      https://statik.tempo.co/data/2023/03/04/id_118...   \n",
            "3      https://statik.tempo.co/data/2023/03/04/id_118...   \n",
            "4      https://statik.tempo.co/data/2023/03/04/id_118...   \n",
            "...                                                  ...   \n",
            "32730  https://blue.kumparan.com/image/upload/fl_prog...   \n",
            "32731  https://blue.kumparan.com/image/upload/fl_prog...   \n",
            "32732  https://blue.kumparan.com/image/upload/fl_prog...   \n",
            "32733  https://blue.kumparan.com/image/upload/fl_prog...   \n",
            "32734  https://statik.tempo.co/data/2022/07/17/id_112...   \n",
            "\n",
            "                                                     url  \\\n",
            "0      https://nasional.tempo.co/read/1698528/depo-pl...   \n",
            "1      https://nasional.tempo.co/read/1698522/jokowi-...   \n",
            "2      https://nasional.tempo.co/read/1698527/hnw-men...   \n",
            "3      https://nasional.tempo.co/read/1698540/tim-dok...   \n",
            "4      https://nasional.tempo.co/read/1698536/bamsoet...   \n",
            "...                                                  ...   \n",
            "32730  https://kumparan.com/kumparansains/5-hewan-ane...   \n",
            "32731  https://kumparan.com/kumparannews/biadab-guru-...   \n",
            "32732  https://kumparan.com/kumparanbola/aji-santoso-...   \n",
            "32733  https://kumparan.com/kumparannews/sopir-audi-c...   \n",
            "32734  https://bisnis.tempo.co/read/1713966/ini-besar...   \n",
            "\n",
            "                                                 content  \\\n",
            "0      TEMPO.CO, Jakarta - Anggota Komisi VII DPR RI ...   \n",
            "1      TEMPO.CO, Jakarta - Presiden Joko Widodo atau ...   \n",
            "2      INFO NASIONAL - Wakil Ketua MPR RI Dr. H. M. H...   \n",
            "3      TEMPO.CO, Jakarta - Tim Kedokteran dan Kesehat...   \n",
            "4      INFO NASIONAL - Ketua MPR RI sekaligus Ketua U...   \n",
            "...                                                  ...   \n",
            "32730  menjadi salah satu lubang terdalam dan tergela...   \n",
            "32731  Seorang guru SD di Banyuwangi ditangkap oleh p...   \n",
            "32732  Pelatih , Aji Santoso, salut dengan sambutan s...   \n",
            "32733  Suasana haru terjadi usai sidang terdakwa Suge...   \n",
            "32734  TEMPO.CO, Jakarta - Presiden Joko Widodo telah...   \n",
            "\n",
            "                         date  \\\n",
            "0      2023-03-04 06:18:13+00   \n",
            "1      2023-03-04 06:04:38+00   \n",
            "2      2023-03-04 06:18:04+00   \n",
            "3      2023-03-04 06:44:10+00   \n",
            "4      2023-03-04 06:38:57+00   \n",
            "...                       ...   \n",
            "32730  2023-04-11 20:13:25+00   \n",
            "32731  2023-04-11 20:05:30+00   \n",
            "32732  2023-04-11 19:37:49+00   \n",
            "32733  2023-04-11 19:24:07+00   \n",
            "32734  2023-04-11 20:00:00+00   \n",
            "\n",
            "                                               embedding  \\\n",
            "0      [-0.01590039,-0.034130897,0.005732614,-0.01853...   \n",
            "1      [-0.017608976,-0.021786924,0.01547983,-0.00932...   \n",
            "2      [0.00841488,-0.023665192,0.006762431,-0.013723...   \n",
            "3      [-0.012671886,-0.0039057182,0.019575326,-0.016...   \n",
            "4      [-0.015486176,-0.0125719,-0.0122843925,-0.0343...   \n",
            "...                                                  ...   \n",
            "32730  [0.008977383,-0.018717425,0.004850631,-0.01737...   \n",
            "32731  [0.0040081143,-0.0045449445,-0.00012154845,-0....   \n",
            "32732  [-0.008314485,-0.012032238,0.0025099716,0.0025...   \n",
            "32733  [0.01118314,-0.016214557,0.023612533,-0.024195...   \n",
            "32734  [0.008218683,-0.015419006,0.013721741,-0.00265...   \n",
            "\n",
            "                       created_at                  updated_at  \\\n",
            "0      2023-03-04 07:03:39.039332  2023-03-04 07:03:39.039332   \n",
            "1      2023-03-04 07:03:39.039332  2023-03-04 07:03:39.039332   \n",
            "2      2023-03-04 07:03:39.039332  2023-03-04 07:03:39.039332   \n",
            "3      2023-03-04 07:03:39.039332  2023-03-04 07:03:39.039332   \n",
            "4      2023-03-04 07:03:39.039332  2023-03-04 07:03:39.039332   \n",
            "...                           ...                         ...   \n",
            "32730  2023-04-11 20:20:10.989219  2023-04-11 20:20:10.989219   \n",
            "32731  2023-04-11 20:20:10.989219  2023-04-11 20:20:10.989219   \n",
            "32732  2023-04-11 20:20:10.989219  2023-04-11 20:20:10.989219   \n",
            "32733  2023-04-11 20:20:10.989219  2023-04-11 20:20:10.989219   \n",
            "32734  2023-04-11 20:30:13.315332  2023-04-11 20:30:13.315332   \n",
            "\n",
            "                                                 summary  \n",
            "0      Anggota Komisi VII DPR RI Rofik Hananto menyay...  \n",
            "1      Presiden Joko Widodo telah memerintahkan Wakil...  \n",
            "2      Wakil Ketua MPR RI Dr. H. M. Hidayat Nur Wahid...  \n",
            "3      Tim Kedokteran dan Kesehatan (Dokkes) Polri te...  \n",
            "4      Ketua MPR RI Bambang Soesatyo telah diangkat s...  \n",
            "...                                                  ...  \n",
            "32730  Peneliti berhasil mengungkap sedikit demi sedi...  \n",
            "32731  Seorang guru SD di Banyuwangi ditangkap polisi...  \n",
            "32732  Pelatih Persebaya, Aji Santoso, menyampaikan s...  \n",
            "32733  Sugeng Guruh Gautama Legiman, terdakwa kasus k...  \n",
            "32734  Presiden Jokowi telah menetapkan besaran Biaya...  \n",
            "\n",
            "[32735 rows x 11 columns]>\n"
          ]
        }
      ]
    },
    {
      "cell_type": "code",
      "source": [
        "print(\"\\Info Dataset\")\n",
        "print(df.info())"
      ],
      "metadata": {
        "colab": {
          "base_uri": "https://localhost:8080/"
        },
        "id": "k5bkC5LC15xi",
        "outputId": "387fea17-4969-4b61-b511-ea6927187ead"
      },
      "execution_count": 37,
      "outputs": [
        {
          "output_type": "stream",
          "name": "stdout",
          "text": [
            "\\Info Dataset\n",
            "<class 'pandas.core.frame.DataFrame'>\n",
            "RangeIndex: 32735 entries, 0 to 32734\n",
            "Data columns (total 11 columns):\n",
            " #   Column      Non-Null Count  Dtype \n",
            "---  ------      --------------  ----- \n",
            " 0   id          32735 non-null  int64 \n",
            " 1   source      32735 non-null  object\n",
            " 2   title       32735 non-null  object\n",
            " 3   image       32575 non-null  object\n",
            " 4   url         32735 non-null  object\n",
            " 5   content     32294 non-null  object\n",
            " 6   date        32735 non-null  object\n",
            " 7   embedding   32735 non-null  object\n",
            " 8   created_at  32735 non-null  object\n",
            " 9   updated_at  32735 non-null  object\n",
            " 10  summary     32725 non-null  object\n",
            "dtypes: int64(1), object(10)\n",
            "memory usage: 2.7+ MB\n",
            "None\n"
          ]
        }
      ]
    },
    {
      "cell_type": "code",
      "source": [
        "print(\"\\nJumlah data duplikat:\", df.duplicated().sum())\n",
        "print(\"Jumlah data kosong:\\n\", df.isnull().sum())"
      ],
      "metadata": {
        "colab": {
          "base_uri": "https://localhost:8080/"
        },
        "id": "3bDKLAEW2I2P",
        "outputId": "cea91277-2ff9-4ca8-df2c-ddf24fd40bcc"
      },
      "execution_count": 38,
      "outputs": [
        {
          "output_type": "stream",
          "name": "stdout",
          "text": [
            "\n",
            "Jumlah data duplikat: 0\n",
            "Jumlah data kosong:\n",
            " id              0\n",
            "source          0\n",
            "title           0\n",
            "image         160\n",
            "url             0\n",
            "content       441\n",
            "date            0\n",
            "embedding       0\n",
            "created_at      0\n",
            "updated_at      0\n",
            "summary        10\n",
            "dtype: int64\n"
          ]
        }
      ]
    },
    {
      "cell_type": "code",
      "source": [
        "# Jumlah baris dan kolom\n",
        "print(\"Jumlah baris dan kolom:\", df.shape)\n",
        "\n",
        "# Hanya jumlah baris saja\n",
        "print(\"Jumlah baris:\", len(df))"
      ],
      "metadata": {
        "colab": {
          "base_uri": "https://localhost:8080/"
        },
        "id": "939Z-N812P7g",
        "outputId": "aa1a4c69-eb3a-40f6-ee53-1a9aec62f59a"
      },
      "execution_count": 39,
      "outputs": [
        {
          "output_type": "stream",
          "name": "stdout",
          "text": [
            "Jumlah baris dan kolom: (32735, 11)\n",
            "Jumlah baris: 32735\n"
          ]
        }
      ]
    },
    {
      "cell_type": "code",
      "source": [
        "print(df[df['content'].isnull()])"
      ],
      "metadata": {
        "colab": {
          "base_uri": "https://localhost:8080/"
        },
        "id": "9p8fVg042tw_",
        "outputId": "14649928-bd20-4f89-e348-fb173bd55c64"
      },
      "execution_count": 40,
      "outputs": [
        {
          "output_type": "stream",
          "name": "stdout",
          "text": [
            "          id         source  \\\n",
            "75     34593   cnnindonesia   \n",
            "127    10328   cnnindonesia   \n",
            "305     3654  cnbcindonesia   \n",
            "319     4623   cnnindonesia   \n",
            "321    15487  cnbcindonesia   \n",
            "...      ...            ...   \n",
            "32460  63285   cnnindonesia   \n",
            "32462  63287  cnbcindonesia   \n",
            "32516  63342   cnnindonesia   \n",
            "32527  63354  cnbcindonesia   \n",
            "32661  63491  cnbcindonesia   \n",
            "\n",
            "                                                   title  \\\n",
            "75     FOTO: Demo 212 Tolak Israel, Perppu Ciptaker D...   \n",
            "127    Jejak Transaksi Janggal Rp300 Triliun yang Diu...   \n",
            "305    Heroik! Tentara Ukraina Berjuang Sampai Akhir ...   \n",
            "319    Detik-Detik Mario Aniaya David yang Terekam da...   \n",
            "321    Respons Latihan Korsel-AS, Korut Tembak Rudal ...   \n",
            "...                                                  ...   \n",
            "32460  FOTO: Legenda Pusat Industri Parsel Jalan Haji...   \n",
            "32462  Mau Lebaran, Masyarakat Serbu Layanan Tukar Ua...   \n",
            "32516  INFOGRAFIS: Jadwal One Way dan Contra Flow Aru...   \n",
            "32527     Potret China Siaga, Bakal Dihantam Badai Pasir   \n",
            "32661  Intip Kapal Perang Tak Berawak Pertama Dunia M...   \n",
            "\n",
            "                                                   image  \\\n",
            "75     https://akcdn.detik.net.id/visual/2023/03/26/k...   \n",
            "127    https://akcdn.detik.net.id/visual/2023/03/11/s...   \n",
            "305    https://akcdn.detik.net.id/visual/2023/03/09/p...   \n",
            "319    https://akcdn.detik.net.id/visual/2023/03/10/r...   \n",
            "321    https://akcdn.detik.net.id/visual/2023/03/17/n...   \n",
            "...                                                  ...   \n",
            "32460  https://akcdn.detik.net.id/visual/2023/04/11/t...   \n",
            "32462  https://akcdn.detik.net.id/visual/2023/04/11/w...   \n",
            "32516  https://akcdn.detik.net.id/visual/2023/04/11/i...   \n",
            "32527  https://akcdn.detik.net.id/visual/2023/04/11/p...   \n",
            "32661  https://akcdn.detik.net.id/visual/2023/04/11/p...   \n",
            "\n",
            "                                                     url content  \\\n",
            "75     https://www.cnnindonesia.com/nasional/20230326...     NaN   \n",
            "127    https://www.cnnindonesia.com/nasional/20230315...     NaN   \n",
            "305    https://www.cnbcindonesia.com/news/20230309111...     NaN   \n",
            "319    https://www.cnnindonesia.com/nasional/20230310...     NaN   \n",
            "321    https://www.cnbcindonesia.com/news/20230317092...     NaN   \n",
            "...                                                  ...     ...   \n",
            "32460  https://www.cnnindonesia.com/ekonomi/202304111...     NaN   \n",
            "32462  https://www.cnbcindonesia.com/news/20230411153...     NaN   \n",
            "32516  https://www.cnnindonesia.com/nasional/20230411...     NaN   \n",
            "32527  https://www.cnbcindonesia.com/news/20230411132...     NaN   \n",
            "32661  https://www.cnbcindonesia.com/news/20230411105...     NaN   \n",
            "\n",
            "                         date  \\\n",
            "75     2023-03-26 23:43:08+00   \n",
            "127    2023-03-15 05:16:17+00   \n",
            "305    2023-03-09 05:20:00+00   \n",
            "319    2023-03-11 02:10:00+00   \n",
            "321    2023-03-17 05:15:00+00   \n",
            "...                       ...   \n",
            "32460  2023-04-11 11:55:53+00   \n",
            "32462  2023-04-11 12:05:00+00   \n",
            "32516  2023-04-11 12:33:11+00   \n",
            "32527  2023-04-11 12:35:00+00   \n",
            "32661  2023-04-11 14:50:00+00   \n",
            "\n",
            "                                               embedding  \\\n",
            "75     [0.0015690419,-0.01674868,-0.00096191745,0.002...   \n",
            "127    [0.0015782304,-0.016748818,-0.0009665132,0.002...   \n",
            "305    [0.0015690419,-0.01674868,-0.00096191745,0.002...   \n",
            "319    [0.0015690419,-0.01674868,-0.00096191745,0.002...   \n",
            "321    [0.0015782304,-0.016748818,-0.0009665132,0.002...   \n",
            "...                                                  ...   \n",
            "32460  [0.0015782304,-0.016748818,-0.0009665132,0.002...   \n",
            "32462  [0.0015690419,-0.01674868,-0.00096191745,0.002...   \n",
            "32516  [0.0015782304,-0.016748818,-0.0009665132,0.002...   \n",
            "32527  [0.0015782304,-0.016748818,-0.0009665132,0.002...   \n",
            "32661  [0.0015782304,-0.016748818,-0.0009665132,0.002...   \n",
            "\n",
            "                       created_at                  updated_at  \\\n",
            "75     2023-03-27 00:05:10.321335  2023-03-27 00:05:10.321335   \n",
            "127    2023-03-15 05:35:25.584855  2023-03-15 05:35:25.584855   \n",
            "305    2023-03-09 05:40:16.851061  2023-03-09 05:40:16.851061   \n",
            "319    2023-03-11 02:35:16.546332  2023-03-11 02:35:16.546332   \n",
            "321    2023-03-17 05:40:11.938853  2023-03-17 05:40:11.938853   \n",
            "...                           ...                         ...   \n",
            "32460  2023-04-11 12:05:11.315836  2023-04-11 12:05:11.315836   \n",
            "32462  2023-04-11 12:10:11.787644  2023-04-11 12:10:11.787644   \n",
            "32516  2023-04-11 13:05:18.526342  2023-04-11 13:05:18.526342   \n",
            "32527   2023-04-11 13:10:10.05897   2023-04-11 13:10:10.05897   \n",
            "32661  2023-04-11 15:10:13.151342  2023-04-11 15:10:13.151342   \n",
            "\n",
            "                                                 summary  \n",
            "75     Pemerintah mengumumkan bahwa vaksinasi COVID-1...  \n",
            "127    Indonesia akan menerima donasi 8.000 dosis vak...  \n",
            "305    Presiden AS Joe Biden menyambut baik rencana p...  \n",
            "319    Pemerintah India meminta Twitter untuk memblok...  \n",
            "321    Sinergi Bareksa dan Bukalapak: Permudah Invest...  \n",
            "...                                                  ...  \n",
            "32460  Pemerintah Indonesia memperketat kembali proto...  \n",
            "32462  Ganjar Pranowo: Saya Tidak Akan Bolehkan Acara...  \n",
            "32516  Indonesia merayakan Hari Kemerdekaan ke-76 pad...  \n",
            "32527  Kejaksaan Agung RI telah menyetujui penangguha...  \n",
            "32661  Presiden Joko Widodo mengumumkan bahwa vaksina...  \n",
            "\n",
            "[441 rows x 11 columns]\n"
          ]
        }
      ]
    },
    {
      "cell_type": "markdown",
      "source": [
        "## Drop data dengan kolom yang kosong\n",
        "Data dengan kolom, content, summary, image. Total data yang dihapus ada 611 baris data."
      ],
      "metadata": {
        "id": "9KUNQota3dMQ"
      }
    },
    {
      "cell_type": "code",
      "source": [
        "df.dropna(subset=['content'], inplace=True)"
      ],
      "metadata": {
        "id": "gSa2B5_l3A3n"
      },
      "execution_count": 41,
      "outputs": []
    },
    {
      "cell_type": "code",
      "source": [
        "df.dropna(subset=['summary'], inplace=True)"
      ],
      "metadata": {
        "id": "3mrrmdWh3RAv"
      },
      "execution_count": 42,
      "outputs": []
    },
    {
      "cell_type": "code",
      "source": [
        "df.dropna(subset=['image'], inplace=True)"
      ],
      "metadata": {
        "id": "ob2mTvox3V-2"
      },
      "execution_count": 43,
      "outputs": []
    },
    {
      "cell_type": "markdown",
      "source": [
        "Cek lagi jumlah data setleah di drop"
      ],
      "metadata": {
        "id": "ei8ggSTh4Eyd"
      }
    },
    {
      "cell_type": "code",
      "source": [
        "# Jumlah baris dan kolom\n",
        "print(\"Jumlah baris dan kolom:\", df.shape)\n",
        "\n",
        "# Hanya jumlah baris saja\n",
        "print(\"Jumlah baris:\", len(df))"
      ],
      "metadata": {
        "colab": {
          "base_uri": "https://localhost:8080/"
        },
        "id": "vsK7PaSn3YRN",
        "outputId": "ff8d92f3-1e41-4bf8-8730-5bc995d50b8a"
      },
      "execution_count": 45,
      "outputs": [
        {
          "output_type": "stream",
          "name": "stdout",
          "text": [
            "Jumlah baris dan kolom: (32127, 11)\n",
            "Jumlah baris: 32127\n"
          ]
        }
      ]
    },
    {
      "cell_type": "code",
      "source": [
        "print(\"\\nJumlah data duplikat:\", df.duplicated().sum())\n",
        "print(\"Jumlah data kosong:\\n\", df.isnull().sum())"
      ],
      "metadata": {
        "id": "YrhMJ7QU5Tjl",
        "outputId": "2068fd59-4aab-4cac-9411-28de0609a1df",
        "colab": {
          "base_uri": "https://localhost:8080/"
        }
      },
      "execution_count": 46,
      "outputs": [
        {
          "output_type": "stream",
          "name": "stdout",
          "text": [
            "\n",
            "Jumlah data duplikat: 0\n",
            "Jumlah data kosong:\n",
            " id            0\n",
            "source        0\n",
            "title         0\n",
            "image         0\n",
            "url           0\n",
            "content       0\n",
            "date          0\n",
            "embedding     0\n",
            "created_at    0\n",
            "updated_at    0\n",
            "summary       0\n",
            "dtype: int64\n"
          ]
        }
      ]
    },
    {
      "cell_type": "code",
      "source": [
        "df = df[:2000]"
      ],
      "metadata": {
        "id": "XUOhZIKlM5iF"
      },
      "execution_count": 47,
      "outputs": []
    },
    {
      "cell_type": "code",
      "source": [
        "print(\"Jumlah baris dan kolom:\", df.shape)\n",
        "print(\"Jumlah baris:\", len(df))"
      ],
      "metadata": {
        "colab": {
          "base_uri": "https://localhost:8080/"
        },
        "id": "th13RQCRNBBH",
        "outputId": "6916cf82-fb9c-472c-daca-87a71aefe68c"
      },
      "execution_count": 48,
      "outputs": [
        {
          "output_type": "stream",
          "name": "stdout",
          "text": [
            "Jumlah baris dan kolom: (2000, 11)\n",
            "Jumlah baris: 2000\n"
          ]
        }
      ]
    },
    {
      "cell_type": "code",
      "source": [
        "df['content_length'] = df['content'].apply(lambda x: len(x.split()))\n",
        "print(\"\\nStatistik panjang berita:\")\n",
        "print(df['content_length'].describe())"
      ],
      "metadata": {
        "colab": {
          "base_uri": "https://localhost:8080/"
        },
        "id": "ZA25Dcs53ajB",
        "outputId": "7a6c3b04-478c-4f7c-ead5-b9f0810479fe"
      },
      "execution_count": 49,
      "outputs": [
        {
          "output_type": "stream",
          "name": "stdout",
          "text": [
            "\n",
            "Statistik panjang berita:\n",
            "count    2000.00000\n",
            "mean      339.29900\n",
            "std       155.00366\n",
            "min        26.00000\n",
            "25%       243.00000\n",
            "50%       315.00000\n",
            "75%       411.25000\n",
            "max      1312.00000\n",
            "Name: content_length, dtype: float64\n"
          ]
        }
      ]
    },
    {
      "cell_type": "code",
      "source": [
        "plt.figure(figsize=(10, 5))\n",
        "sns.histplot(df['content_length'], bins=50, kde=True)\n",
        "plt.title(\"Distribusi Panjang Teks Berita\")\n",
        "plt.xlabel(\"Jumlah Kata\")\n",
        "plt.ylabel(\"Jumlah Artikel\")\n",
        "plt.show()\n"
      ],
      "metadata": {
        "colab": {
          "base_uri": "https://localhost:8080/",
          "height": 487
        },
        "id": "Xf3WUs2D4N6S",
        "outputId": "453721f9-0c1f-4232-f2a1-05cf7e795727"
      },
      "execution_count": 50,
      "outputs": [
        {
          "output_type": "display_data",
          "data": {
            "text/plain": [
              "<Figure size 1000x500 with 1 Axes>"
            ],
            "image/png": "[encoded data removed]"
          },
          "metadata": {}
        }
      ]
    },
    {
      "cell_type": "code",
      "source": [
        "source_counts = df['source'].value_counts()\n",
        "\n",
        "print(\"Jumlah berita per sumber:\\n\", source_counts)\n",
        "\n",
        "plt.figure(figsize=(8, 5))\n",
        "sns.barplot(x=source_counts.index, y=source_counts.values, palette='viridis')\n",
        "plt.title('Distribusi Sumber Berita')\n",
        "plt.xlabel('Sumber')\n",
        "plt.ylabel('Jumlah Artikel')\n",
        "plt.xticks(rotation=45)\n",
        "plt.tight_layout()\n",
        "plt.show()"
      ],
      "metadata": {
        "colab": {
          "base_uri": "https://localhost:8080/",
          "height": 766
        },
        "id": "-3Lp3FFN4STe",
        "outputId": "38ab694b-0be6-4731-dddb-277b0530a582"
      },
      "execution_count": 51,
      "outputs": [
        {
          "output_type": "stream",
          "name": "stdout",
          "text": [
            "Jumlah berita per sumber:\n",
            " source\n",
            "tempo            663\n",
            "cnbcindonesia    431\n",
            "cnnindonesia     390\n",
            "kumparan         376\n",
            "okezone          119\n",
            "suara             14\n",
            "jawapos            7\n",
            "Name: count, dtype: int64\n"
          ]
        },
        {
          "output_type": "stream",
          "name": "stderr",
          "text": [
            "<ipython-input-51-73c228b5c8a3>:6: FutureWarning: \n",
            "\n",
            "Passing `palette` without assigning `hue` is deprecated and will be removed in v0.14.0. Assign the `x` variable to `hue` and set `legend=False` for the same effect.\n",
            "\n",
            "  sns.barplot(x=source_counts.index, y=source_counts.values, palette='viridis')\n"
          ]
        },
        {
          "output_type": "display_data",
          "data": {
            "text/plain": [
              "<Figure size 800x500 with 1 Axes>"
            ],
            "image/png": "[encoded data removed]"
          },
          "metadata": {}
        }
      ]
    },
    {
      "cell_type": "code",
      "source": [
        "from collections import Counter\n",
        "import re\n",
        "\n",
        "all_words = ' '.join(df['content'].dropna()).lower()\n",
        "all_words = re.findall(r'\\b\\w+\\b', all_words)\n",
        "\n",
        "word_freq = Counter(all_words).most_common(10)\n",
        "\n",
        "words, counts = zip(*word_freq)\n",
        "sns.barplot(x=list(words), y=list(counts))\n",
        "plt.title(\"10 Kata Terbanyak dalam Berita\")\n",
        "plt.ylabel(\"Frekuensi\")\n",
        "plt.xticks(rotation=45)\n",
        "plt.show()"
      ],
      "metadata": {
        "colab": {
          "base_uri": "https://localhost:8080/",
          "height": 485
        },
        "id": "x4mCBgSC4Wj4",
        "outputId": "61ee0cfd-9995-423f-e173-7291615f8dbc"
      },
      "execution_count": 52,
      "outputs": [
        {
          "output_type": "display_data",
          "data": {
            "text/plain": [
              "<Figure size 640x480 with 1 Axes>"
            ],
            "image/png": "[encoded data removed]"
          },
          "metadata": {}
        }
      ]
    },
    {
      "cell_type": "markdown",
      "source": [
        "# Preprocessing"
      ],
      "metadata": {
        "id": "I3qWupjuKF8n"
      }
    },
    {
      "cell_type": "code",
      "source": [
        "!pip install sastrawi"
      ],
      "metadata": {
        "colab": {
          "base_uri": "https://localhost:8080/"
        },
        "id": "Bg1-l-9bOkty",
        "outputId": "043256b8-7504-4492-c406-fcecbe8aeb13"
      },
      "execution_count": 53,
      "outputs": [
        {
          "output_type": "stream",
          "name": "stdout",
          "text": [
            "Collecting sastrawi\n",
            "  Downloading Sastrawi-1.0.1-py2.py3-none-any.whl.metadata (909 bytes)\n",
            "Downloading Sastrawi-1.0.1-py2.py3-none-any.whl (209 kB)\n",
            "\u001b[2K   \u001b[90m━━━━━━━━━━━━━━━━━━━━━━━━━━━━━━━━━━━━━━━━\u001b[0m \u001b[32m209.7/209.7 kB\u001b[0m \u001b[31m3.3 MB/s\u001b[0m eta \u001b[36m0:00:00\u001b[0m\n",
            "\u001b[?25hInstalling collected packages: sastrawi\n",
            "Successfully installed sastrawi-1.0.1\n"
          ]
        }
      ]
    },
    {
      "cell_type": "code",
      "source": [
        "import pandas as pd\n",
        "import re\n",
        "from nltk.tokenize import word_tokenize\n",
        "from nltk.corpus import stopwords\n",
        "from Sastrawi.Stemmer.StemmerFactory import StemmerFactory\n",
        "import nltk\n",
        "from nltk.tokenize import RegexpTokenizer"
      ],
      "metadata": {
        "id": "yOjsEoh-BjXk"
      },
      "execution_count": 60,
      "outputs": []
    },
    {
      "cell_type": "code",
      "source": [
        "nltk.download('punkt')\n",
        "nltk.download('stopwords')"
      ],
      "metadata": {
        "colab": {
          "base_uri": "https://localhost:8080/"
        },
        "id": "ig24UbAGOi-K",
        "outputId": "13101e9c-7609-4dab-efba-f5e66705901b"
      },
      "execution_count": 55,
      "outputs": [
        {
          "output_type": "stream",
          "name": "stderr",
          "text": [
            "[nltk_data] Downloading package punkt to /root/nltk_data...\n",
            "[nltk_data]   Unzipping tokenizers/punkt.zip.\n",
            "[nltk_data] Downloading package stopwords to /root/nltk_data...\n",
            "[nltk_data]   Unzipping corpora/stopwords.zip.\n"
          ]
        },
        {
          "output_type": "execute_result",
          "data": {
            "text/plain": [
              "True"
            ]
          },
          "metadata": {},
          "execution_count": 55
        }
      ]
    },
    {
      "cell_type": "code",
      "source": [
        "texts = df['content'].astype(str)"
      ],
      "metadata": {
        "id": "JBEUZJ5tOpXY"
      },
      "execution_count": 56,
      "outputs": []
    },
    {
      "cell_type": "code",
      "source": [
        "stop_words = set(stopwords.words('indonesian'))\n",
        "factory = StemmerFactory()\n",
        "stemmer = factory.create_stemmer()"
      ],
      "metadata": {
        "id": "zvNKtnjrOu-H"
      },
      "execution_count": 57,
      "outputs": []
    },
    {
      "cell_type": "markdown",
      "source": [
        "Fungsi Tokenisasi"
      ],
      "metadata": {
        "id": "7b8esJxLQMEi"
      }
    },
    {
      "cell_type": "code",
      "source": [
        "tokenizer = RegexpTokenizer(r'\\w+')\n",
        "stop_words = set(stopwords.words('indonesian'))\n",
        "stemmer = StemmerFactory().create_stemmer()"
      ],
      "metadata": {
        "id": "uvQ_Ss0cOyV7"
      },
      "execution_count": 63,
      "outputs": []
    },
    {
      "cell_type": "code",
      "source": [
        "def case_folding(text):\n",
        "    lowered = text.lower()\n",
        "    return lowered"
      ],
      "metadata": {
        "id": "ocYKp5svO9hK"
      },
      "execution_count": 64,
      "outputs": []
    },
    {
      "cell_type": "code",
      "source": [
        "def tokenize(text):\n",
        "    return tokenizer.tokenize(text)"
      ],
      "metadata": {
        "id": "2BCj1UNFQhzA"
      },
      "execution_count": 65,
      "outputs": []
    },
    {
      "cell_type": "markdown",
      "source": [
        "Stopword Removal"
      ],
      "metadata": {
        "id": "rVdhV1m5Qjdz"
      }
    },
    {
      "cell_type": "code",
      "source": [
        "def remove_stopwords(tokens):\n",
        "    removed = [word for word in tokens if word not in stop_words]\n",
        "    removed_words = [word for word in tokens if word in stop_words]\n",
        "    return removed, removed_words"
      ],
      "metadata": {
        "id": "L2o7GncKQlqo"
      },
      "execution_count": 66,
      "outputs": []
    },
    {
      "cell_type": "markdown",
      "source": [
        "Stemming"
      ],
      "metadata": {
        "id": "Pzkcd22dQne4"
      }
    },
    {
      "cell_type": "code",
      "source": [
        "def stemming(text):\n",
        "    return stemmer.stem(text)"
      ],
      "metadata": {
        "id": "bFW61ieKQodj"
      },
      "execution_count": 67,
      "outputs": []
    },
    {
      "cell_type": "code",
      "source": [
        "def preprocess_pipeline(text):\n",
        "    original = str(text)\n",
        "    folded = case_folding(original)\n",
        "    tokens = tokenize(folded)\n",
        "    cleaned_tokens, removed_tokens = remove_stopwords(tokens)\n",
        "    cleaned_text = \" \".join(cleaned_tokens)\n",
        "    stemmed_text = stemming(cleaned_text)\n",
        "\n",
        "    return pd.Series({\n",
        "        'original': original,\n",
        "        'case_folding': folded,\n",
        "        'tokenized': tokens,\n",
        "        'cleaned_tokens': cleaned_tokens,\n",
        "        'removed_stopwords': removed_tokens,\n",
        "        'stemmed': stemmed_text\n",
        "    })\n"
      ],
      "metadata": {
        "id": "C8LX6yUHQ7sB"
      },
      "execution_count": 68,
      "outputs": []
    },
    {
      "cell_type": "code",
      "source": [
        "processed_df = df['content'].apply(preprocess_pipeline)\n",
        "df = pd.concat([df, processed_df], axis=1)"
      ],
      "metadata": {
        "id": "XzdQIRC1Q-o7"
      },
      "execution_count": null,
      "outputs": []
    },
    {
      "cell_type": "code",
      "source": [
        "print(df[['original', 'case_folding', 'tokenized', 'cleaned_tokens', 'removed_stopwords', 'stemmed']]."
      ],
      "metadata": {
        "id": "JJ49SvkqRBvY"
      },
      "execution_count": null,
      "outputs": []
    },
    {
      "cell_type": "code",
      "source": [
        "df.to_csv(\"berita_preprocessed.csv\", index=False)"
      ],
      "metadata": {
        "id": "l530yHhhRFA3"
      },
      "execution_count": null,
      "outputs": []
    },
    {
      "cell_type": "code",
      "source": [],
      "metadata": {
        "id": "07s8NgZVRHdv"
      },
      "execution_count": null,
      "outputs": []
    }
  ]
}