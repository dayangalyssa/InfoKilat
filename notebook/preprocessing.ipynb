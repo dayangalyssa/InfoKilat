{
  "cells": [
    {
      "cell_type": "code",
      "execution_count": 1,
      "metadata": {
        "id": "lBQnD7lO1Z8J"
      },
      "outputs": [
        {
          "name": "stderr",
          "output_type": "stream",
          "text": [
            "c:\\Users\\USER\\AppData\\Local\\Programs\\Python\\Python311\\Lib\\site-packages\\tqdm\\auto.py:21: TqdmWarning: IProgress not found. Please update jupyter and ipywidgets. See https://ipywidgets.readthedocs.io/en/stable/user_install.html\n",
            "  from .autonotebook import tqdm as notebook_tqdm\n"
          ]
        }
      ],
      "source": [
        "import pandas as pd\n",
        "import matplotlib.pyplot as plt\n",
        "import seaborn as sns\n",
        "import re\n",
        "import kagglehub\n",
        "import os\n",
        "import matplotlib.pyplot as plt\n",
        "import seaborn as sns\n",
        "\n",
        "\n"
      ]
    },
    {
      "cell_type": "code",
      "execution_count": 2,
      "metadata": {
        "colab": {
          "base_uri": "https://localhost:8080/"
        },
        "id": "ecNVCmEfyrHx",
        "outputId": "294ed0a9-dde9-4591-ef28-4815d14b8a38"
      },
      "outputs": [
        {
          "name": "stdout",
          "output_type": "stream",
          "text": [
            "Path to dataset files: C:\\Users\\USER\\.cache\\kagglehub\\datasets\\iqbalmaulana\\indonesian-news-dataset\\versions\\1\n"
          ]
        }
      ],
      "source": [
        "import kagglehub\n",
        "\n",
        "# Download latest version\n",
        "path = kagglehub.dataset_download(\"iqbalmaulana/indonesian-news-dataset\")\n",
        "\n",
        "print(\"Path to dataset files:\", path)"
      ]
    },
    {
      "cell_type": "markdown",
      "metadata": {
        "id": "OCr2R6ShKJrv"
      },
      "source": [
        "# EDA"
      ]
    },
    {
      "cell_type": "code",
      "execution_count": 3,
      "metadata": {
        "colab": {
          "base_uri": "https://localhost:8080/"
        },
        "id": "iZGj3vpIy-2X",
        "outputId": "e83974d6-08b8-464c-f2fc-86bb8d3641b2"
      },
      "outputs": [
        {
          "name": "stdout",
          "output_type": "stream",
          "text": [
            "['data.csv']\n"
          ]
        }
      ],
      "source": [
        "print(os.listdir(path))"
      ]
    },
    {
      "cell_type": "code",
      "execution_count": 4,
      "metadata": {
        "id": "BuS2vxFM1cmb"
      },
      "outputs": [],
      "source": [
        "csv_path = os.path.join(path, 'data.csv')"
      ]
    },
    {
      "cell_type": "code",
      "execution_count": 5,
      "metadata": {
        "id": "BCcpnSSW10Uh"
      },
      "outputs": [],
      "source": [
        "df = pd.read_csv(csv_path)"
      ]
    },
    {
      "cell_type": "code",
      "execution_count": 6,
      "metadata": {
        "colab": {
          "base_uri": "https://localhost:8080/"
        },
        "id": "cbvhuMvc14Qs",
        "outputId": "bc58d2d1-6f78-4356-c62c-fb366b53477d"
      },
      "outputs": [
        {
          "name": "stdout",
          "output_type": "stream",
          "text": [
            "<bound method NDFrame.head of           id    source                                              title                                              image                                                url                                            content                    date                                          embedding                  created_at                  updated_at                                            summary\n",
            "0         83     tempo  Depo Plumpang Terbakar, Anggota DPR Minta Pert...  https://statik.tempo.co/data/2023/03/04/id_118...  https://nasional.tempo.co/read/1698528/depo-pl...  TEMPO.CO, Jakarta - Anggota Komisi VII DPR RI ...  2023-03-04 06:18:13+00  [-0.01590039,-0.034130897,0.005732614,-0.01853...  2023-03-04 07:03:39.039332  2023-03-04 07:03:39.039332  Anggota Komisi VII DPR RI Rofik Hananto menyay...\n",
            "1         84     tempo  Jokowi Perintahkan Wapres Ma'ruf Amin Tinjau L...  https://statik.tempo.co/data/2023/03/04/id_118...  https://nasional.tempo.co/read/1698522/jokowi-...  TEMPO.CO, Jakarta - Presiden Joko Widodo atau ...  2023-03-04 06:04:38+00  [-0.017608976,-0.021786924,0.01547983,-0.00932...  2023-03-04 07:03:39.039332  2023-03-04 07:03:39.039332  Presiden Joko Widodo telah memerintahkan Wakil...\n",
            "2         85     tempo  HNW Mendukung Jamaah Umroh First Travel Dapatk...  https://statik.tempo.co/data/2023/03/04/id_118...  https://nasional.tempo.co/read/1698527/hnw-men...  INFO NASIONAL - Wakil Ketua MPR RI Dr. H. M. H...  2023-03-04 06:18:04+00  [0.00841488,-0.023665192,0.006762431,-0.013723...  2023-03-04 07:03:39.039332  2023-03-04 07:03:39.039332  Wakil Ketua MPR RI Dr. H. M. Hidayat Nur Wahid...\n",
            "3         86     tempo  Tim Dokkes Polri Telah Terima 14 Kantong Jenaz...  https://statik.tempo.co/data/2023/03/04/id_118...  https://nasional.tempo.co/read/1698540/tim-dok...  TEMPO.CO, Jakarta - Tim Kedokteran dan Kesehat...  2023-03-04 06:44:10+00  [-0.012671886,-0.0039057182,0.019575326,-0.016...  2023-03-04 07:03:39.039332  2023-03-04 07:03:39.039332  Tim Kedokteran dan Kesehatan (Dokkes) Polri te...\n",
            "4         87     tempo  Bamsoet Ajak Komunitas Otomotif Kembangkan Per...  https://statik.tempo.co/data/2023/03/04/id_118...  https://nasional.tempo.co/read/1698536/bamsoet...  INFO NASIONAL - Ketua MPR RI sekaligus Ketua U...  2023-03-04 06:38:57+00  [-0.015486176,-0.0125719,-0.0122843925,-0.0343...  2023-03-04 07:03:39.039332  2023-03-04 07:03:39.039332  Ketua MPR RI Bambang Soesatyo telah diangkat s...\n",
            "...      ...       ...                                                ...                                                ...                                                ...                                                ...                     ...                                                ...                         ...                         ...                                                ...\n",
            "32730  63563  kumparan  5 Hewan Aneh yang Hidup di Palung Mariana, Sal...  https://blue.kumparan.com/image/upload/fl_prog...  https://kumparan.com/kumparansains/5-hewan-ane...  menjadi salah satu lubang terdalam dan tergela...  2023-04-11 20:13:25+00  [0.008977383,-0.018717425,0.004850631,-0.01737...  2023-04-11 20:20:10.989219  2023-04-11 20:20:10.989219  Peneliti berhasil mengungkap sedikit demi sedi...\n",
            "32731  63564  kumparan  Biadab! Guru SD di Banyuwangi Cabuli Siswinya,...  https://blue.kumparan.com/image/upload/fl_prog...  https://kumparan.com/kumparannews/biadab-guru-...  Seorang guru SD di Banyuwangi ditangkap oleh p...  2023-04-11 20:05:30+00  [0.0040081143,-0.0045449445,-0.00012154845,-0....  2023-04-11 20:20:10.989219  2023-04-11 20:20:10.989219  Seorang guru SD di Banyuwangi ditangkap polisi...\n",
            "32732  63565  kumparan  Aji Santoso: Jakmania Perlakukan Persebaya den...  https://blue.kumparan.com/image/upload/fl_prog...  https://kumparan.com/kumparanbola/aji-santoso-...  Pelatih , Aji Santoso, salut dengan sambutan s...  2023-04-11 19:37:49+00  [-0.008314485,-0.012032238,0.0025099716,0.0025...  2023-04-11 20:20:10.989219  2023-04-11 20:20:10.989219  Pelatih Persebaya, Aji Santoso, menyampaikan s...\n",
            "32733  63566  kumparan  Sopir Audi Cium Kaki Ibu & Istri Hamil Usai Si...  https://blue.kumparan.com/image/upload/fl_prog...  https://kumparan.com/kumparannews/sopir-audi-c...  Suasana haru terjadi usai sidang terdakwa Suge...  2023-04-11 19:24:07+00  [0.01118314,-0.016214557,0.023612533,-0.024195...  2023-04-11 20:20:10.989219  2023-04-11 20:20:10.989219  Sugeng Guruh Gautama Legiman, terdakwa kasus k...\n",
            "32734  63567     tempo          Ini Besaran Biaya Haji 2023 per Embarkasi  https://statik.tempo.co/data/2022/07/17/id_112...  https://bisnis.tempo.co/read/1713966/ini-besar...  TEMPO.CO, Jakarta - Presiden Joko Widodo telah...  2023-04-11 20:00:00+00  [0.008218683,-0.015419006,0.013721741,-0.00265...  2023-04-11 20:30:13.315332  2023-04-11 20:30:13.315332  Presiden Jokowi telah menetapkan besaran Biaya...\n",
            "\n",
            "[32735 rows x 11 columns]>\n"
          ]
        }
      ],
      "source": [
        "print(df.head)"
      ]
    },
    {
      "cell_type": "code",
      "execution_count": null,
      "metadata": {},
      "outputs": [],
      "source": [
        "print(df.head(50))"
      ]
    },
    {
      "cell_type": "code",
      "execution_count": 8,
      "metadata": {},
      "outputs": [],
      "source": [
        "df = df[:50]"
      ]
    },
    {
      "cell_type": "code",
      "execution_count": 9,
      "metadata": {},
      "outputs": [
        {
          "name": "stdout",
          "output_type": "stream",
          "text": [
            "\n",
            "Jumlah data duplikat: 0\n",
            "Jumlah data kosong:\n",
            " id            0\n",
            "source        0\n",
            "title         0\n",
            "image         0\n",
            "url           0\n",
            "content       0\n",
            "date          0\n",
            "embedding     0\n",
            "created_at    0\n",
            "updated_at    0\n",
            "summary       9\n",
            "dtype: int64\n"
          ]
        }
      ],
      "source": [
        "print(\"\\nJumlah data duplikat:\", df.duplicated().sum())\n",
        "print(\"Jumlah data kosong:\\n\", df.isnull().sum())"
      ]
    },
    {
      "cell_type": "code",
      "execution_count": 10,
      "metadata": {},
      "outputs": [
        {
          "name": "stdout",
          "output_type": "stream",
          "text": [
            "Data saved to ./data/data-berita.csv\n"
          ]
        }
      ],
      "source": [
        "output_path = './data/data-berita.csv'\n",
        "os.makedirs(os.path.dirname(output_path), exist_ok=True)\n",
        "df.to_csv(output_path, index=False)\n",
        "print(f\"Data saved to {output_path}\")"
      ]
    },
    {
      "cell_type": "code",
      "execution_count": null,
      "metadata": {},
      "outputs": [],
      "source": []
    },
    {
      "cell_type": "code",
      "execution_count": 9,
      "metadata": {
        "colab": {
          "base_uri": "https://localhost:8080/"
        },
        "id": "k5bkC5LC15xi",
        "outputId": "387fea17-4969-4b61-b511-ea6927187ead"
      },
      "outputs": [
        {
          "name": "stdout",
          "output_type": "stream",
          "text": [
            "\\Info Dataset\n",
            "<class 'pandas.core.frame.DataFrame'>\n",
            "RangeIndex: 32735 entries, 0 to 32734\n",
            "Data columns (total 11 columns):\n",
            " #   Column      Non-Null Count  Dtype \n",
            "---  ------      --------------  ----- \n",
            " 0   id          32735 non-null  int64 \n",
            " 1   source      32735 non-null  object\n",
            " 2   title       32735 non-null  object\n",
            " 3   image       32575 non-null  object\n",
            " 4   url         32735 non-null  object\n",
            " 5   content     32294 non-null  object\n",
            " 6   date        32735 non-null  object\n",
            " 7   embedding   32735 non-null  object\n",
            " 8   created_at  32735 non-null  object\n",
            " 9   updated_at  32735 non-null  object\n",
            " 10  summary     32725 non-null  object\n",
            "dtypes: int64(1), object(10)\n",
            "memory usage: 2.7+ MB\n",
            "None\n"
          ]
        }
      ],
      "source": [
        "print(\"\\Info Dataset\")\n",
        "print(df.info())"
      ]
    },
    {
      "cell_type": "code",
      "execution_count": 10,
      "metadata": {
        "colab": {
          "base_uri": "https://localhost:8080/"
        },
        "id": "3bDKLAEW2I2P",
        "outputId": "cea91277-2ff9-4ca8-df2c-ddf24fd40bcc"
      },
      "outputs": [
        {
          "name": "stdout",
          "output_type": "stream",
          "text": [
            "\n",
            "Jumlah data duplikat: 0\n",
            "Jumlah data kosong:\n",
            " id              0\n",
            "source          0\n",
            "title           0\n",
            "image         160\n",
            "url             0\n",
            "content       441\n",
            "date            0\n",
            "embedding       0\n",
            "created_at      0\n",
            "updated_at      0\n",
            "summary        10\n",
            "dtype: int64\n"
          ]
        }
      ],
      "source": [
        "print(\"\\nJumlah data duplikat:\", df.duplicated().sum())\n",
        "print(\"Jumlah data kosong:\\n\", df.isnull().sum())"
      ]
    },
    {
      "cell_type": "code",
      "execution_count": 11,
      "metadata": {
        "colab": {
          "base_uri": "https://localhost:8080/"
        },
        "id": "939Z-N812P7g",
        "outputId": "aa1a4c69-eb3a-40f6-ee53-1a9aec62f59a"
      },
      "outputs": [
        {
          "name": "stdout",
          "output_type": "stream",
          "text": [
            "Jumlah baris dan kolom: (32735, 11)\n",
            "Jumlah baris: 32735\n"
          ]
        }
      ],
      "source": [
        "# Jumlah baris dan kolom\n",
        "print(\"Jumlah baris dan kolom:\", df.shape)\n",
        "\n",
        "# Hanya jumlah baris saja\n",
        "print(\"Jumlah baris:\", len(df))"
      ]
    },
    {
      "cell_type": "code",
      "execution_count": 12,
      "metadata": {
        "colab": {
          "base_uri": "https://localhost:8080/"
        },
        "id": "9p8fVg042tw_",
        "outputId": "14649928-bd20-4f89-e348-fb173bd55c64"
      },
      "outputs": [
        {
          "name": "stdout",
          "output_type": "stream",
          "text": [
            "          id         source  \\\n",
            "75     34593   cnnindonesia   \n",
            "127    10328   cnnindonesia   \n",
            "305     3654  cnbcindonesia   \n",
            "319     4623   cnnindonesia   \n",
            "321    15487  cnbcindonesia   \n",
            "...      ...            ...   \n",
            "32460  63285   cnnindonesia   \n",
            "32462  63287  cnbcindonesia   \n",
            "32516  63342   cnnindonesia   \n",
            "32527  63354  cnbcindonesia   \n",
            "32661  63491  cnbcindonesia   \n",
            "\n",
            "                                                   title  \\\n",
            "75     FOTO: Demo 212 Tolak Israel, Perppu Ciptaker D...   \n",
            "127    Jejak Transaksi Janggal Rp300 Triliun yang Diu...   \n",
            "305    Heroik! Tentara Ukraina Berjuang Sampai Akhir ...   \n",
            "319    Detik-Detik Mario Aniaya David yang Terekam da...   \n",
            "321    Respons Latihan Korsel-AS, Korut Tembak Rudal ...   \n",
            "...                                                  ...   \n",
            "32460  FOTO: Legenda Pusat Industri Parsel Jalan Haji...   \n",
            "32462  Mau Lebaran, Masyarakat Serbu Layanan Tukar Ua...   \n",
            "32516  INFOGRAFIS: Jadwal One Way dan Contra Flow Aru...   \n",
            "32527     Potret China Siaga, Bakal Dihantam Badai Pasir   \n",
            "32661  Intip Kapal Perang Tak Berawak Pertama Dunia M...   \n",
            "\n",
            "                                                   image  \\\n",
            "75     https://akcdn.detik.net.id/visual/2023/03/26/k...   \n",
            "127    https://akcdn.detik.net.id/visual/2023/03/11/s...   \n",
            "305    https://akcdn.detik.net.id/visual/2023/03/09/p...   \n",
            "319    https://akcdn.detik.net.id/visual/2023/03/10/r...   \n",
            "321    https://akcdn.detik.net.id/visual/2023/03/17/n...   \n",
            "...                                                  ...   \n",
            "32460  https://akcdn.detik.net.id/visual/2023/04/11/t...   \n",
            "32462  https://akcdn.detik.net.id/visual/2023/04/11/w...   \n",
            "32516  https://akcdn.detik.net.id/visual/2023/04/11/i...   \n",
            "32527  https://akcdn.detik.net.id/visual/2023/04/11/p...   \n",
            "32661  https://akcdn.detik.net.id/visual/2023/04/11/p...   \n",
            "\n",
            "                                                     url content  \\\n",
            "75     https://www.cnnindonesia.com/nasional/20230326...     NaN   \n",
            "127    https://www.cnnindonesia.com/nasional/20230315...     NaN   \n",
            "305    https://www.cnbcindonesia.com/news/20230309111...     NaN   \n",
            "319    https://www.cnnindonesia.com/nasional/20230310...     NaN   \n",
            "321    https://www.cnbcindonesia.com/news/20230317092...     NaN   \n",
            "...                                                  ...     ...   \n",
            "32460  https://www.cnnindonesia.com/ekonomi/202304111...     NaN   \n",
            "32462  https://www.cnbcindonesia.com/news/20230411153...     NaN   \n",
            "32516  https://www.cnnindonesia.com/nasional/20230411...     NaN   \n",
            "32527  https://www.cnbcindonesia.com/news/20230411132...     NaN   \n",
            "32661  https://www.cnbcindonesia.com/news/20230411105...     NaN   \n",
            "\n",
            "                         date  \\\n",
            "75     2023-03-26 23:43:08+00   \n",
            "127    2023-03-15 05:16:17+00   \n",
            "305    2023-03-09 05:20:00+00   \n",
            "319    2023-03-11 02:10:00+00   \n",
            "321    2023-03-17 05:15:00+00   \n",
            "...                       ...   \n",
            "32460  2023-04-11 11:55:53+00   \n",
            "32462  2023-04-11 12:05:00+00   \n",
            "32516  2023-04-11 12:33:11+00   \n",
            "32527  2023-04-11 12:35:00+00   \n",
            "32661  2023-04-11 14:50:00+00   \n",
            "\n",
            "                                               embedding  \\\n",
            "75     [0.0015690419,-0.01674868,-0.00096191745,0.002...   \n",
            "127    [0.0015782304,-0.016748818,-0.0009665132,0.002...   \n",
            "305    [0.0015690419,-0.01674868,-0.00096191745,0.002...   \n",
            "319    [0.0015690419,-0.01674868,-0.00096191745,0.002...   \n",
            "321    [0.0015782304,-0.016748818,-0.0009665132,0.002...   \n",
            "...                                                  ...   \n",
            "32460  [0.0015782304,-0.016748818,-0.0009665132,0.002...   \n",
            "32462  [0.0015690419,-0.01674868,-0.00096191745,0.002...   \n",
            "32516  [0.0015782304,-0.016748818,-0.0009665132,0.002...   \n",
            "32527  [0.0015782304,-0.016748818,-0.0009665132,0.002...   \n",
            "32661  [0.0015782304,-0.016748818,-0.0009665132,0.002...   \n",
            "\n",
            "                       created_at                  updated_at  \\\n",
            "75     2023-03-27 00:05:10.321335  2023-03-27 00:05:10.321335   \n",
            "127    2023-03-15 05:35:25.584855  2023-03-15 05:35:25.584855   \n",
            "305    2023-03-09 05:40:16.851061  2023-03-09 05:40:16.851061   \n",
            "319    2023-03-11 02:35:16.546332  2023-03-11 02:35:16.546332   \n",
            "321    2023-03-17 05:40:11.938853  2023-03-17 05:40:11.938853   \n",
            "...                           ...                         ...   \n",
            "32460  2023-04-11 12:05:11.315836  2023-04-11 12:05:11.315836   \n",
            "32462  2023-04-11 12:10:11.787644  2023-04-11 12:10:11.787644   \n",
            "32516  2023-04-11 13:05:18.526342  2023-04-11 13:05:18.526342   \n",
            "32527   2023-04-11 13:10:10.05897   2023-04-11 13:10:10.05897   \n",
            "32661  2023-04-11 15:10:13.151342  2023-04-11 15:10:13.151342   \n",
            "\n",
            "                                                 summary  \n",
            "75     Pemerintah mengumumkan bahwa vaksinasi COVID-1...  \n",
            "127    Indonesia akan menerima donasi 8.000 dosis vak...  \n",
            "305    Presiden AS Joe Biden menyambut baik rencana p...  \n",
            "319    Pemerintah India meminta Twitter untuk memblok...  \n",
            "321    Sinergi Bareksa dan Bukalapak: Permudah Invest...  \n",
            "...                                                  ...  \n",
            "32460  Pemerintah Indonesia memperketat kembali proto...  \n",
            "32462  Ganjar Pranowo: Saya Tidak Akan Bolehkan Acara...  \n",
            "32516  Indonesia merayakan Hari Kemerdekaan ke-76 pad...  \n",
            "32527  Kejaksaan Agung RI telah menyetujui penangguha...  \n",
            "32661  Presiden Joko Widodo mengumumkan bahwa vaksina...  \n",
            "\n",
            "[441 rows x 11 columns]\n"
          ]
        }
      ],
      "source": [
        "print(df[df['content'].isnull()])"
      ]
    },
    {
      "cell_type": "markdown",
      "metadata": {
        "id": "9KUNQota3dMQ"
      },
      "source": [
        "## Drop data dengan kolom yang kosong\n",
        "Data dengan kolom, content, summary, image. Total data yang dihapus ada 611 baris data."
      ]
    },
    {
      "cell_type": "code",
      "execution_count": 13,
      "metadata": {
        "id": "gSa2B5_l3A3n"
      },
      "outputs": [],
      "source": [
        "df.dropna(subset=['content'], inplace=True)"
      ]
    },
    {
      "cell_type": "code",
      "execution_count": null,
      "metadata": {
        "id": "3mrrmdWh3RAv"
      },
      "outputs": [],
      "source": [
        "df.dropna(subset=['summary'], inplace=True)"
      ]
    },
    {
      "cell_type": "code",
      "execution_count": 14,
      "metadata": {
        "id": "ob2mTvox3V-2"
      },
      "outputs": [],
      "source": [
        "df.dropna(subset=['image'], inplace=True)"
      ]
    },
    {
      "cell_type": "markdown",
      "metadata": {
        "id": "ei8ggSTh4Eyd"
      },
      "source": [
        "Cek lagi jumlah data setleah di drop"
      ]
    },
    {
      "cell_type": "code",
      "execution_count": 15,
      "metadata": {
        "colab": {
          "base_uri": "https://localhost:8080/"
        },
        "id": "vsK7PaSn3YRN",
        "outputId": "ff8d92f3-1e41-4bf8-8730-5bc995d50b8a"
      },
      "outputs": [
        {
          "name": "stdout",
          "output_type": "stream",
          "text": [
            "Jumlah baris dan kolom: (32137, 11)\n",
            "Jumlah baris: 32137\n"
          ]
        }
      ],
      "source": [
        "\n",
        "# Jumlah baris dan kolom\n",
        "print(\"Jumlah baris dan kolom:\", df.shape)\n",
        "\n",
        "# Hanya jumlah baris saja\n",
        "print(\"Jumlah baris:\", len(df))"
      ]
    },
    {
      "cell_type": "code",
      "execution_count": 16,
      "metadata": {
        "colab": {
          "base_uri": "https://localhost:8080/"
        },
        "id": "YrhMJ7QU5Tjl",
        "outputId": "2068fd59-4aab-4cac-9411-28de0609a1df"
      },
      "outputs": [
        {
          "name": "stdout",
          "output_type": "stream",
          "text": [
            "\n",
            "Jumlah data duplikat: 0\n",
            "Jumlah data kosong:\n",
            " id             0\n",
            "source         0\n",
            "title          0\n",
            "image          0\n",
            "url            0\n",
            "content        0\n",
            "date           0\n",
            "embedding      0\n",
            "created_at     0\n",
            "updated_at     0\n",
            "summary       10\n",
            "dtype: int64\n"
          ]
        }
      ],
      "source": [
        "print(\"\\nJumlah data duplikat:\", df.duplicated().sum())\n",
        "print(\"Jumlah data kosong:\\n\", df.isnull().sum())"
      ]
    },
    {
      "cell_type": "code",
      "execution_count": 18,
      "metadata": {
        "id": "XUOhZIKlM5iF"
      },
      "outputs": [],
      "source": [
        "df = df[:50]"
      ]
    },
    {
      "cell_type": "code",
      "execution_count": 19,
      "metadata": {
        "colab": {
          "base_uri": "https://localhost:8080/"
        },
        "id": "th13RQCRNBBH",
        "outputId": "6916cf82-fb9c-472c-daca-87a71aefe68c"
      },
      "outputs": [
        {
          "name": "stdout",
          "output_type": "stream",
          "text": [
            "Jumlah baris dan kolom: (50, 11)\n",
            "Jumlah baris: 50\n"
          ]
        }
      ],
      "source": [
        "print(\"Jumlah baris dan kolom:\", df.shape)\n",
        "print(\"Jumlah baris:\", len(df))"
      ]
    },
    {
      "cell_type": "code",
      "execution_count": 20,
      "metadata": {
        "colab": {
          "base_uri": "https://localhost:8080/"
        },
        "id": "ZA25Dcs53ajB",
        "outputId": "7a6c3b04-478c-4f7c-ead5-b9f0810479fe"
      },
      "outputs": [
        {
          "name": "stdout",
          "output_type": "stream",
          "text": [
            "\n",
            "Statistik panjang berita:\n",
            "count      50.000000\n",
            "mean      414.700000\n",
            "std       165.971506\n",
            "min       170.000000\n",
            "25%       310.000000\n",
            "50%       364.500000\n",
            "75%       460.500000\n",
            "max      1033.000000\n",
            "Name: content_length, dtype: float64\n"
          ]
        }
      ],
      "source": [
        "df['content_length'] = df['content'].apply(lambda x: len(x.split()))\n",
        "print(\"\\nStatistik panjang berita:\")\n",
        "print(df['content_length'].describe())"
      ]
    },
    {
      "cell_type": "code",
      "execution_count": 21,
      "metadata": {
        "colab": {
          "base_uri": "https://localhost:8080/",
          "height": 487
        },
        "id": "Xf3WUs2D4N6S",
        "outputId": "453721f9-0c1f-4232-f2a1-05cf7e795727"
      },
      "outputs": [
        {
          "data": {
            "image/png": "[encoded data removed]",
            "text/plain": [
              "<Figure size 1000x500 with 1 Axes>"
            ]
          },
          "metadata": {},
          "output_type": "display_data"
        }
      ],
      "source": [
        "plt.figure(figsize=(10, 5))\n",
        "sns.histplot(df['content_length'], bins=50, kde=True)\n",
        "plt.title(\"Distribusi Panjang Teks Berita\")\n",
        "plt.xlabel(\"Jumlah Kata\")\n",
        "plt.ylabel(\"Jumlah Artikel\")\n",
        "plt.show()\n"
      ]
    },
    {
      "cell_type": "code",
      "execution_count": 22,
      "metadata": {
        "colab": {
          "base_uri": "https://localhost:8080/",
          "height": 766
        },
        "id": "-3Lp3FFN4STe",
        "outputId": "38ab694b-0be6-4731-dddb-277b0530a582"
      },
      "outputs": [
        {
          "name": "stdout",
          "output_type": "stream",
          "text": [
            "Jumlah berita per sumber:\n",
            " source\n",
            "tempo    50\n",
            "Name: count, dtype: int64\n"
          ]
        },
        {
          "name": "stderr",
          "output_type": "stream",
          "text": [
            "C:\\Users\\USER\\AppData\\Local\\Temp\\ipykernel_22144\\4163127188.py:6: FutureWarning: \n",
            "\n",
            "Passing `palette` without assigning `hue` is deprecated and will be removed in v0.14.0. Assign the `x` variable to `hue` and set `legend=False` for the same effect.\n",
            "\n",
            "  sns.barplot(x=source_counts.index, y=source_counts.values, palette='viridis')\n"
          ]
        },
        {
          "data": {
            "image/png": "[encoded data removed]",
            "text/plain": [
              "<Figure size 800x500 with 1 Axes>"
            ]
          },
          "metadata": {},
          "output_type": "display_data"
        }
      ],
      "source": [
        "source_counts = df['source'].value_counts()\n",
        "\n",
        "print(\"Jumlah berita per sumber:\\n\", source_counts)\n",
        "\n",
        "plt.figure(figsize=(8, 5))\n",
        "sns.barplot(x=source_counts.index, y=source_counts.values, palette='viridis')\n",
        "plt.title('Distribusi Sumber Berita')\n",
        "plt.xlabel('Sumber')\n",
        "plt.ylabel('Jumlah Artikel')\n",
        "plt.xticks(rotation=45)\n",
        "plt.tight_layout()\n",
        "plt.show()"
      ]
    },
    {
      "cell_type": "code",
      "execution_count": 23,
      "metadata": {
        "colab": {
          "base_uri": "https://localhost:8080/",
          "height": 485
        },
        "id": "x4mCBgSC4Wj4",
        "outputId": "61ee0cfd-9995-423f-e173-7291615f8dbc"
      },
      "outputs": [
        {
          "data": {
            "image/png": "[encoded data removed]",
            "text/plain": [
              "<Figure size 640x480 with 1 Axes>"
            ]
          },
          "metadata": {},
          "output_type": "display_data"
        }
      ],
      "source": [
        "from collections import Counter\n",
        "import re\n",
        "\n",
        "all_words = ' '.join(df['content'].dropna()).lower()\n",
        "all_words = re.findall(r'\\b\\w+\\b', all_words)\n",
        "\n",
        "word_freq = Counter(all_words).most_common(10)\n",
        "\n",
        "words, counts = zip(*word_freq)\n",
        "sns.barplot(x=list(words), y=list(counts))\n",
        "plt.title(\"10 Kata Terbanyak dalam Berita\")\n",
        "plt.ylabel(\"Frekuensi\")\n",
        "plt.xticks(rotation=45)\n",
        "plt.show()"
      ]
    },
    {
      "cell_type": "code",
      "execution_count": 24,
      "metadata": {},
      "outputs": [
        {
          "data": {
            "image/png": "[encoded data removed]",
            "text/plain": [
              "<Figure size 1000x500 with 1 Axes>"
            ]
          },
          "metadata": {},
          "output_type": "display_data"
        }
      ],
      "source": [
        "def calculate_words_per_sentence(text):\n",
        "    sentences = re.split(r'[.!?]', text) \n",
        "    sentences = [sentence.strip() for sentence in sentences if sentence.strip()] \n",
        "    words_per_sentence = [len(sentence.split()) for sentence in sentences]  \n",
        "    return words_per_sentence\n",
        "\n",
        "df['words_per_sentence'] = df['content'].apply(lambda x: calculate_words_per_sentence(str(x)))\n",
        "\n",
        "df['avg_words_per_sentence'] = df['words_per_sentence'].apply(lambda x: sum(x) / len(x) if x else 0)\n",
        "\n",
        "plt.figure(figsize=(10, 5))\n",
        "sns.histplot(df['avg_words_per_sentence'], bins=30, kde=True, color='blue')\n",
        "plt.title(\"Distribusi Rata-rata Panjang Kata per Kalimat\")\n",
        "plt.xlabel(\"Rata-rata Panjang Kata\")\n",
        "plt.ylabel(\"Frekuensi\")\n",
        "plt.show()"
      ]
    },
    {
      "cell_type": "markdown",
      "metadata": {
        "id": "I3qWupjuKF8n"
      },
      "source": [
        "# Preprocessing"
      ]
    },
    {
      "cell_type": "code",
      "execution_count": 25,
      "metadata": {
        "colab": {
          "base_uri": "https://localhost:8080/"
        },
        "id": "Bg1-l-9bOkty",
        "outputId": "043256b8-7504-4492-c406-fcecbe8aeb13"
      },
      "outputs": [
        {
          "name": "stdout",
          "output_type": "stream",
          "text": [
            "Requirement already satisfied: sastrawi in c:\\users\\user\\appdata\\local\\programs\\python\\python311\\lib\\site-packages (1.0.1)\n"
          ]
        },
        {
          "name": "stderr",
          "output_type": "stream",
          "text": [
            "\n",
            "[notice] A new release of pip is available: 23.2.1 -> 25.1.1\n",
            "[notice] To update, run: python.exe -m pip install --upgrade pip\n"
          ]
        }
      ],
      "source": [
        "!pip install sastrawi"
      ]
    },
    {
      "cell_type": "code",
      "execution_count": 26,
      "metadata": {
        "id": "yOjsEoh-BjXk"
      },
      "outputs": [],
      "source": [
        "import pandas as pd\n",
        "import re\n",
        "from nltk.tokenize import sent_tokenize, word_tokenize\n",
        "from nltk.corpus import stopwords\n",
        "from Sastrawi.Stemmer.StemmerFactory import StemmerFactory\n",
        "import nltk\n",
        "from nltk.tokenize import RegexpTokenizer"
      ]
    },
    {
      "cell_type": "code",
      "execution_count": 27,
      "metadata": {
        "colab": {
          "base_uri": "https://localhost:8080/"
        },
        "id": "ig24UbAGOi-K",
        "outputId": "13101e9c-7609-4dab-efba-f5e66705901b"
      },
      "outputs": [
        {
          "name": "stderr",
          "output_type": "stream",
          "text": [
            "[nltk_data] Downloading package punkt to\n",
            "[nltk_data]     C:\\Users\\USER\\AppData\\Roaming\\nltk_data...\n",
            "[nltk_data]   Package punkt is already up-to-date!\n",
            "[nltk_data] Downloading package stopwords to\n",
            "[nltk_data]     C:\\Users\\USER\\AppData\\Roaming\\nltk_data...\n",
            "[nltk_data]   Package stopwords is already up-to-date!\n"
          ]
        },
        {
          "data": {
            "text/plain": [
              "True"
            ]
          },
          "execution_count": 27,
          "metadata": {},
          "output_type": "execute_result"
        }
      ],
      "source": [
        "nltk.download('punkt')\n",
        "nltk.download('stopwords')"
      ]
    },
    {
      "cell_type": "code",
      "execution_count": 28,
      "metadata": {},
      "outputs": [],
      "source": [
        "stop_words = set(stopwords.words('indonesian'))\n",
        "factory = StemmerFactory()\n",
        "stemmer = factory.create_stemmer()"
      ]
    },
    {
      "cell_type": "code",
      "execution_count": 33,
      "metadata": {
        "id": "JBEUZJ5tOpXY"
      },
      "outputs": [],
      "source": [
        "additional_stopwords = {\"tempo\", \"co\", \"info\", \"nasional\", \"cnbc\", \"CNBC\", \"indonesia\"}\n",
        "stop_words.update(additional_stopwords)\n",
        "\n",
        "def preprocess_sentence(sentence):\n",
        "    # Case folding\n",
        "    sentence = sentence.lower()\n",
        "    # Tokenisasi\n",
        "    tokens = word_tokenize(sentence)\n",
        "    # Stopword removal\n",
        "    tokens = [word for word in tokens if word not in stop_words]\n",
        "    # Stemming\n",
        "    tokens = [stemmer.stem(word) for word in tokens]\n",
        "    return \" \".join(tokens)"
      ]
    },
    {
      "cell_type": "code",
      "execution_count": 34,
      "metadata": {
        "id": "zvNKtnjrOu-H"
      },
      "outputs": [],
      "source": [
        "def split_and_preprocess(text):\n",
        "    sentences = sent_tokenize(text)  \n",
        "    original_sentences = sentences  \n",
        "    processed_sentences = [preprocess_sentence(sentence) for sentence in sentences]  # Versi preprocessing\n",
        "    return pd.DataFrame({\n",
        "        'original_sentence': original_sentences,\n",
        "        'processed_sentence': processed_sentences\n",
        "    })"
      ]
    },
    {
      "cell_type": "code",
      "execution_count": 35,
      "metadata": {},
      "outputs": [],
      "source": [
        "all_sentences = []\n",
        "for idx, row in df.iterrows():\n",
        "    if pd.notnull(row['content']):\n",
        "        sentences_df = split_and_preprocess(row['content'])\n",
        "        sentences_df['document_id'] = idx \n",
        "        all_sentences.append(sentences_df)\n",
        "\n",
        "all_sentences_df = pd.concat(all_sentences, ignore_index=True)\n"
      ]
    },
    {
      "cell_type": "code",
      "execution_count": 36,
      "metadata": {},
      "outputs": [
        {
          "name": "stdout",
          "output_type": "stream",
          "text": [
            "                                   original_sentence  \\\n",
            "0  TEMPO.CO, Jakarta - Anggota Komisi VII DPR RI ...   \n",
            "1  \"Turut berbela sungkawa terhadap masyarakat si...   \n",
            "2  Pertamina harus tanggung jawab,\" kata dia dala...   \n",
            "3  TBBM Plumpang dinilai sebagai salah satu termi...   \n",
            "4  \"Plumpang menyuplai sekitar 20 persen kebutuha...   \n",
            "\n",
            "                                  processed_sentence  document_id  \n",
            "0  tempo co  jakarta - anggota komisi vii dpr ri ...            0  \n",
            "1   bela sungkawa masyarakat sipil dampak  daerah...            0  \n",
            "2  pertamina tanggung   terang jakarta sabtu  4 m...            0  \n",
            "3  tbbm plumpang nilai salah terminal bbm penting...            0  \n",
            "4   plumpang suplai 20 persen butuh bbm hari  25 ...            0  \n"
          ]
        }
      ],
      "source": [
        "all_sentences_df.to_csv(\"data/preprocessed_sentences.csv\", index=False)\n",
        "\n",
        "print(all_sentences_df.head())"
      ]
    },
    {
      "cell_type": "code",
      "execution_count": 37,
      "metadata": {},
      "outputs": [
        {
          "data": {
            "image/png": "[encoded data removed]",
            "text/plain": [
              "<Figure size 1000x600 with 1 Axes>"
            ]
          },
          "metadata": {},
          "output_type": "display_data"
        }
      ],
      "source": [
        "sentence_counts = all_sentences_df['document_id'].value_counts()\n",
        "\n",
        "plt.figure(figsize=(10, 6))\n",
        "sns.histplot(sentence_counts, bins=20, kde=False, color='blue')\n",
        "plt.xticks(rotation=45)\n",
        "plt.grid(axis='y', linestyle='--', alpha=0.7)\n",
        "plt.title(\"Distribusi Jumlah Kalimat per Dokumen\", fontsize=14)\n",
        "plt.xlabel(\"Jumlah Kalimat\", fontsize=12)\n",
        "plt.ylabel(\"Frekuensi\", fontsize=12)\n",
        "plt.tight_layout()\n",
        "plt.show()"
      ]
    },
    {
      "cell_type": "code",
      "execution_count": 39,
      "metadata": {},
      "outputs": [
        {
          "data": {
            "text/html": [
              "<div>\n",
              "<style scoped>\n",
              "    .dataframe tbody tr th:only-of-type {\n",
              "        vertical-align: middle;\n",
              "    }\n",
              "\n",
              "    .dataframe tbody tr th {\n",
              "        vertical-align: top;\n",
              "    }\n",
              "\n",
              "    .dataframe thead th {\n",
              "        text-align: right;\n",
              "    }\n",
              "</style>\n",
              "<table border=\"1\" class=\"dataframe\">\n",
              "  <thead>\n",
              "    <tr style=\"text-align: right;\">\n",
              "      <th></th>\n",
              "      <th>original_sentence</th>\n",
              "      <th>processed_sentence</th>\n",
              "      <th>document_id</th>\n",
              "    </tr>\n",
              "  </thead>\n",
              "  <tbody>\n",
              "    <tr>\n",
              "      <th>0</th>\n",
              "      <td>TEMPO.CO, Jakarta - Anggota Komisi VII DPR RI ...</td>\n",
              "      <td>tempo co  jakarta - anggota komisi vii dpr ri ...</td>\n",
              "      <td>0</td>\n",
              "    </tr>\n",
              "    <tr>\n",
              "      <th>1</th>\n",
              "      <td>\"Turut berbela sungkawa terhadap masyarakat si...</td>\n",
              "      <td>bela sungkawa masyarakat sipil dampak  daerah...</td>\n",
              "      <td>0</td>\n",
              "    </tr>\n",
              "    <tr>\n",
              "      <th>2</th>\n",
              "      <td>Pertamina harus tanggung jawab,\" kata dia dala...</td>\n",
              "      <td>pertamina tanggung   terang jakarta sabtu  4 m...</td>\n",
              "      <td>0</td>\n",
              "    </tr>\n",
              "    <tr>\n",
              "      <th>3</th>\n",
              "      <td>TBBM Plumpang dinilai sebagai salah satu termi...</td>\n",
              "      <td>tbbm plumpang nilai salah terminal bbm penting...</td>\n",
              "      <td>0</td>\n",
              "    </tr>\n",
              "    <tr>\n",
              "      <th>4</th>\n",
              "      <td>\"Plumpang menyuplai sekitar 20 persen kebutuha...</td>\n",
              "      <td>plumpang suplai 20 persen butuh bbm hari  25 ...</td>\n",
              "      <td>0</td>\n",
              "    </tr>\n",
              "    <tr>\n",
              "      <th>5</th>\n",
              "      <td>Maka tindakan selanjutnya adalah bagaimana mem...</td>\n",
              "      <td>tindak suplai bbm ganggu   kata rofik singgung...</td>\n",
              "      <td>0</td>\n",
              "    </tr>\n",
              "    <tr>\n",
              "      <th>6</th>\n",
              "      <td>Terhitung 2 tahun terakhir ini, kata dia, suda...</td>\n",
              "      <td>hitung 2   5 fasilitas migas milik pertamina a...</td>\n",
              "      <td>0</td>\n",
              "    </tr>\n",
              "    <tr>\n",
              "      <th>7</th>\n",
              "      <td>\"Menyayangkan terjadinya musibah kebakaran ini...</td>\n",
              "      <td>sayang musibah bakar  insiden bakar kali fasi...</td>\n",
              "      <td>0</td>\n",
              "    </tr>\n",
              "    <tr>\n",
              "      <th>8</th>\n",
              "      <td>Pertamina harus benahi sistem pengamanan dan S...</td>\n",
              "      <td>pertamina benah sistem aman sop   dia rofik ha...</td>\n",
              "      <td>0</td>\n",
              "    </tr>\n",
              "    <tr>\n",
              "      <th>9</th>\n",
              "      <td>Menurutnya pembenahan diperlukan agar Pertamin...</td>\n",
              "      <td>turut benah pertamina abai aspek aman fasilita...</td>\n",
              "      <td>0</td>\n",
              "    </tr>\n",
              "    <tr>\n",
              "      <th>10</th>\n",
              "      <td>\"Investigasi menyeluruh dan tuntas, serta memi...</td>\n",
              "      <td>investigasi tuntas  komitmen pertamina baik s...</td>\n",
              "      <td>0</td>\n",
              "    </tr>\n",
              "    <tr>\n",
              "      <th>11</th>\n",
              "      <td>TEMPO.CO, Jakarta - Presiden Joko Widodo atau ...</td>\n",
              "      <td>tempo co  jakarta - presiden joko widodo jokow...</td>\n",
              "      <td>1</td>\n",
              "    </tr>\n",
              "    <tr>\n",
              "      <th>12</th>\n",
              "      <td>Kebakaran besar di lokasi tersebut terjadi pad...</td>\n",
              "      <td>bakar lokasi jumat malam  3 maret 2023  akibat...</td>\n",
              "      <td>1</td>\n",
              "    </tr>\n",
              "    <tr>\n",
              "      <th>13</th>\n",
              "      <td>\"Presiden tidak ke Plumpang hari ini.</td>\n",
              "      <td>presiden plumpang</td>\n",
              "      <td>1</td>\n",
              "    </tr>\n",
              "    <tr>\n",
              "      <th>14</th>\n",
              "      <td>Tapi, Presiden sudah berkoordinasi dengan Wapr...</td>\n",
              "      <td>presiden koordinasi wapres tinjau   deputi bi...</td>\n",
              "      <td>1</td>\n",
              "    </tr>\n",
              "    <tr>\n",
              "      <th>15</th>\n",
              "      <td>\"Intinya Presiden minta untuk mengutamakan eva...</td>\n",
              "      <td>inti presiden utama evakuasi korban tangan wa...</td>\n",
              "      <td>1</td>\n",
              "    </tr>\n",
              "    <tr>\n",
              "      <th>16</th>\n",
              "      <td>Kepala Dinas Penanggulangan Kebakaran dan Peny...</td>\n",
              "      <td>kepala dinas tanggulang bakar selamat dki jaka...</td>\n",
              "      <td>1</td>\n",
              "    </tr>\n",
              "    <tr>\n",
              "      <th>17</th>\n",
              "      <td>Dilansir dari Antara, salah seorang warga, Pan...</td>\n",
              "      <td>lansir  salah warga  pandi  bau bensin santer ...</td>\n",
              "      <td>1</td>\n",
              "    </tr>\n",
              "    <tr>\n",
              "      <th>18</th>\n",
              "      <td>Namun, pihak Pertamina mengaku masih menginves...</td>\n",
              "      <td>pertamina aku investigasi sebab insiden</td>\n",
              "      <td>1</td>\n",
              "    </tr>\n",
              "    <tr>\n",
              "      <th>19</th>\n",
              "      <td>\"Penyebab kejadian masih dalam proses investig...</td>\n",
              "      <td>sebab jadi proses investigasi   area manager ...</td>\n",
              "      <td>1</td>\n",
              "    </tr>\n",
              "    <tr>\n",
              "      <th>20</th>\n",
              "      <td>Sementara 50 orang mengalami luka-luka dengan ...</td>\n",
              "      <td>50 orang alami luka tingkat parah api sambar k...</td>\n",
              "      <td>1</td>\n",
              "    </tr>\n",
              "    <tr>\n",
              "      <th>21</th>\n",
              "      <td>Badan Penanggulangan Bencana Daerah (BPBD) DKI...</td>\n",
              "      <td>badan tanggulang bencana daerah  bpbd  dki jak...</td>\n",
              "      <td>1</td>\n",
              "    </tr>\n",
              "    <tr>\n",
              "      <th>22</th>\n",
              "      <td>Mereka tersebar di enam titik pengungsian.</td>\n",
              "      <td>sebar enam titik ungsi</td>\n",
              "      <td>1</td>\n",
              "    </tr>\n",
              "    <tr>\n",
              "      <th>23</th>\n",
              "      <td>\"Pengungsi info sementara 579 jiwa,\" demikian ...</td>\n",
              "      <td>ungsi 579 jiwa   terang bpbd dki jakarta  sab...</td>\n",
              "      <td>1</td>\n",
              "    </tr>\n",
              "    <tr>\n",
              "      <th>24</th>\n",
              "      <td>INFO NASIONAL - Wakil Ketua MPR RI Dr. H. M. H...</td>\n",
              "      <td>- wakil ketua mpr ri dr h m hidayat nur wahid ...</td>\n",
              "      <td>2</td>\n",
              "    </tr>\n",
              "    <tr>\n",
              "      <th>25</th>\n",
              "      <td>Pertemuan tersebut berlangsung di Ruang Kerja ...</td>\n",
              "      <td>temu ruang kerja wakil ketua mpr gedung nusant...</td>\n",
              "      <td>2</td>\n",
              "    </tr>\n",
              "    <tr>\n",
              "      <th>26</th>\n",
              "      <td>Tapi, hingga kini keputusan tersebut belum bis...</td>\n",
              "      <td>putus eksekusi bahkan  jaksa negeri  kejar  d...</td>\n",
              "      <td>2</td>\n",
              "    </tr>\n",
              "    <tr>\n",
              "      <th>27</th>\n",
              "      <td>Kepada HNW, Abdul Rasyid mengatakan, para calo...</td>\n",
              "      <td>hnw  abdul rasyid  calon jamaah umroh harap be...</td>\n",
              "      <td>2</td>\n",
              "    </tr>\n",
              "    <tr>\n",
              "      <th>28</th>\n",
              "      <td>\"Keberangkatan ke Mekah, lebih penting dibandi...</td>\n",
              "      <td>berangkat mekah  banding terima kembali biaya...</td>\n",
              "      <td>2</td>\n",
              "    </tr>\n",
              "    <tr>\n",
              "      <th>29</th>\n",
              "      <td>Kami berharap pemerintah hadir dalam perkara i...</td>\n",
              "      <td>harap perintah hadir perkara  bertanggungjawab...</td>\n",
              "      <td>2</td>\n",
              "    </tr>\n",
              "    <tr>\n",
              "      <th>30</th>\n",
              "      <td>HNW memahami, betapa kecewa dan sedihnya jamaa...</td>\n",
              "      <td>hnw paham  betapa kecewa sedih jamaah gagal be...</td>\n",
              "      <td>2</td>\n",
              "    </tr>\n",
              "    <tr>\n",
              "      <th>31</th>\n",
              "      <td>Persoalan Umroh, menurut HNW kerap dibahas ole...</td>\n",
              "      <td>umroh  hnw kerap bahas komisi viii dpr ri ment...</td>\n",
              "      <td>2</td>\n",
              "    </tr>\n",
              "    <tr>\n",
              "      <th>32</th>\n",
              "      <td>Sayangnya persoalan haji lebih mendapat perhat...</td>\n",
              "      <td>sayang haji perhati banding ibadah umroh ini a...</td>\n",
              "      <td>2</td>\n",
              "    </tr>\n",
              "    <tr>\n",
              "      <th>33</th>\n",
              "      <td>Apalagi, mereka pernah dijanjikan oleh Kemente...</td>\n",
              "      <td>janji menteri agama  berangkat umroh hukum in...</td>\n",
              "      <td>2</td>\n",
              "    </tr>\n",
              "    <tr>\n",
              "      <th>34</th>\n",
              "      <td>(*)</td>\n",
              "      <td></td>\n",
              "      <td>2</td>\n",
              "    </tr>\n",
              "    <tr>\n",
              "      <th>35</th>\n",
              "      <td>TEMPO.CO, Jakarta - Tim Kedokteran dan Kesehat...</td>\n",
              "      <td>tempo co  jakarta - tim dokter sehat  dokkes  ...</td>\n",
              "      <td>3</td>\n",
              "    </tr>\n",
              "    <tr>\n",
              "      <th>36</th>\n",
              "      <td>\"Pada hari ini, posko DVI sudah menerima 14 ka...</td>\n",
              "      <td>posko dvi terima 14 kantong jenazah</td>\n",
              "      <td>3</td>\n",
              "    </tr>\n",
              "    <tr>\n",
              "      <th>37</th>\n",
              "      <td>Tim DVI pun langsung bekerja untuk melakukan i...</td>\n",
              "      <td>tim dvi langsung identifikasi korban   kepala ...</td>\n",
              "      <td>3</td>\n",
              "    </tr>\n",
              "    <tr>\n",
              "      <th>38</th>\n",
              "      <td>Pada saat kejadian, kata Dedi, tim Dokkes Polr...</td>\n",
              "      <td>jadi  dedi  tim dokkes polri kirim 5 ambulans ...</td>\n",
              "      <td>3</td>\n",
              "    </tr>\n",
              "    <tr>\n",
              "      <th>39</th>\n",
              "      <td>Tim Dokkes Polri juga telah mendirikan posko D...</td>\n",
              "      <td>tim dokkes polri diri posko dvi rumah sakit po...</td>\n",
              "      <td>3</td>\n",
              "    </tr>\n",
              "    <tr>\n",
              "      <th>40</th>\n",
              "      <td>\"Langkah yang dilakukan hari setelah clear dar...</td>\n",
              "      <td>langkah clear hse  health safety environment ...</td>\n",
              "      <td>3</td>\n",
              "    </tr>\n",
              "    <tr>\n",
              "      <th>41</th>\n",
              "      <td>Jumlah anggota sementara 9 orang.</td>\n",
              "      <td>anggota 9 orang</td>\n",
              "      <td>3</td>\n",
              "    </tr>\n",
              "    <tr>\n",
              "      <th>42</th>\n",
              "      <td>Alat yang kita gunakan toolkid kebakaran, dron...</td>\n",
              "      <td>alat toolkid bakar  drone  alat ambil sampel a...</td>\n",
              "      <td>3</td>\n",
              "    </tr>\n",
              "    <tr>\n",
              "      <th>43</th>\n",
              "      <td>\"Mendirikan dapur umum di Pos Polisi oleh Sat ...</td>\n",
              "      <td>diri dapur pos polisi sat brimobda pmj bantu ...</td>\n",
              "      <td>3</td>\n",
              "    </tr>\n",
              "    <tr>\n",
              "      <th>44</th>\n",
              "      <td>INFO NASIONAL - Ketua MPR RI sekaligus Ketua U...</td>\n",
              "      <td>- ketua mpr ri ketua ikat motor  imi  wakil ke...</td>\n",
              "      <td>4</td>\n",
              "    </tr>\n",
              "    <tr>\n",
              "      <th>45</th>\n",
              "      <td>Sehingga, dapat menginspirasi klub-klub otomot...</td>\n",
              "      <td>inspirasi klub otomotif kontribusi baik hidup...</td>\n",
              "      <td>4</td>\n",
              "    </tr>\n",
              "    <tr>\n",
              "      <th>46</th>\n",
              "      <td>\"Selamat kepada sahabat saya Ahmad Sahroni yan...</td>\n",
              "      <td>selamat sahabat ahmad sahroni pilih ketua hdc...</td>\n",
              "      <td>4</td>\n",
              "    </tr>\n",
              "    <tr>\n",
              "      <th>47</th>\n",
              "      <td>\"Dan kompetensi yang dibutuhkan untuk memimpin...</td>\n",
              "      <td>kompetensi butuh pimpin maju organisasi hdci ...</td>\n",
              "      <td>4</td>\n",
              "    </tr>\n",
              "    <tr>\n",
              "      <th>48</th>\n",
              "      <td>Firman Santyabudi, Wakapolda Jawa Tengah Brigj...</td>\n",
              "      <td>firman santyabudi  wakapolda jawa brigjen pol</td>\n",
              "      <td>4</td>\n",
              "    </tr>\n",
              "    <tr>\n",
              "      <th>49</th>\n",
              "      <td>Abiyoso Seno Aji, Dirjen Administrasi Hukum Um...</td>\n",
              "      <td>abiyoso seno aji  dirjen administrasi hukum ke...</td>\n",
              "      <td>4</td>\n",
              "    </tr>\n",
              "  </tbody>\n",
              "</table>\n",
              "</div>"
            ],
            "text/plain": [
              "                                    original_sentence  \\\n",
              "0   TEMPO.CO, Jakarta - Anggota Komisi VII DPR RI ...   \n",
              "1   \"Turut berbela sungkawa terhadap masyarakat si...   \n",
              "2   Pertamina harus tanggung jawab,\" kata dia dala...   \n",
              "3   TBBM Plumpang dinilai sebagai salah satu termi...   \n",
              "4   \"Plumpang menyuplai sekitar 20 persen kebutuha...   \n",
              "5   Maka tindakan selanjutnya adalah bagaimana mem...   \n",
              "6   Terhitung 2 tahun terakhir ini, kata dia, suda...   \n",
              "7   \"Menyayangkan terjadinya musibah kebakaran ini...   \n",
              "8   Pertamina harus benahi sistem pengamanan dan S...   \n",
              "9   Menurutnya pembenahan diperlukan agar Pertamin...   \n",
              "10  \"Investigasi menyeluruh dan tuntas, serta memi...   \n",
              "11  TEMPO.CO, Jakarta - Presiden Joko Widodo atau ...   \n",
              "12  Kebakaran besar di lokasi tersebut terjadi pad...   \n",
              "13              \"Presiden tidak ke Plumpang hari ini.   \n",
              "14  Tapi, Presiden sudah berkoordinasi dengan Wapr...   \n",
              "15  \"Intinya Presiden minta untuk mengutamakan eva...   \n",
              "16  Kepala Dinas Penanggulangan Kebakaran dan Peny...   \n",
              "17  Dilansir dari Antara, salah seorang warga, Pan...   \n",
              "18  Namun, pihak Pertamina mengaku masih menginves...   \n",
              "19  \"Penyebab kejadian masih dalam proses investig...   \n",
              "20  Sementara 50 orang mengalami luka-luka dengan ...   \n",
              "21  Badan Penanggulangan Bencana Daerah (BPBD) DKI...   \n",
              "22         Mereka tersebar di enam titik pengungsian.   \n",
              "23  \"Pengungsi info sementara 579 jiwa,\" demikian ...   \n",
              "24  INFO NASIONAL - Wakil Ketua MPR RI Dr. H. M. H...   \n",
              "25  Pertemuan tersebut berlangsung di Ruang Kerja ...   \n",
              "26  Tapi, hingga kini keputusan tersebut belum bis...   \n",
              "27  Kepada HNW, Abdul Rasyid mengatakan, para calo...   \n",
              "28  \"Keberangkatan ke Mekah, lebih penting dibandi...   \n",
              "29  Kami berharap pemerintah hadir dalam perkara i...   \n",
              "30  HNW memahami, betapa kecewa dan sedihnya jamaa...   \n",
              "31  Persoalan Umroh, menurut HNW kerap dibahas ole...   \n",
              "32  Sayangnya persoalan haji lebih mendapat perhat...   \n",
              "33  Apalagi, mereka pernah dijanjikan oleh Kemente...   \n",
              "34                                                (*)   \n",
              "35  TEMPO.CO, Jakarta - Tim Kedokteran dan Kesehat...   \n",
              "36  \"Pada hari ini, posko DVI sudah menerima 14 ka...   \n",
              "37  Tim DVI pun langsung bekerja untuk melakukan i...   \n",
              "38  Pada saat kejadian, kata Dedi, tim Dokkes Polr...   \n",
              "39  Tim Dokkes Polri juga telah mendirikan posko D...   \n",
              "40  \"Langkah yang dilakukan hari setelah clear dar...   \n",
              "41                  Jumlah anggota sementara 9 orang.   \n",
              "42  Alat yang kita gunakan toolkid kebakaran, dron...   \n",
              "43  \"Mendirikan dapur umum di Pos Polisi oleh Sat ...   \n",
              "44  INFO NASIONAL - Ketua MPR RI sekaligus Ketua U...   \n",
              "45  Sehingga, dapat menginspirasi klub-klub otomot...   \n",
              "46  \"Selamat kepada sahabat saya Ahmad Sahroni yan...   \n",
              "47  \"Dan kompetensi yang dibutuhkan untuk memimpin...   \n",
              "48  Firman Santyabudi, Wakapolda Jawa Tengah Brigj...   \n",
              "49  Abiyoso Seno Aji, Dirjen Administrasi Hukum Um...   \n",
              "\n",
              "                                   processed_sentence  document_id  \n",
              "0   tempo co  jakarta - anggota komisi vii dpr ri ...            0  \n",
              "1    bela sungkawa masyarakat sipil dampak  daerah...            0  \n",
              "2   pertamina tanggung   terang jakarta sabtu  4 m...            0  \n",
              "3   tbbm plumpang nilai salah terminal bbm penting...            0  \n",
              "4    plumpang suplai 20 persen butuh bbm hari  25 ...            0  \n",
              "5   tindak suplai bbm ganggu   kata rofik singgung...            0  \n",
              "6   hitung 2   5 fasilitas migas milik pertamina a...            0  \n",
              "7    sayang musibah bakar  insiden bakar kali fasi...            0  \n",
              "8   pertamina benah sistem aman sop   dia rofik ha...            0  \n",
              "9   turut benah pertamina abai aspek aman fasilita...            0  \n",
              "10   investigasi tuntas  komitmen pertamina baik s...            0  \n",
              "11  tempo co  jakarta - presiden joko widodo jokow...            1  \n",
              "12  bakar lokasi jumat malam  3 maret 2023  akibat...            1  \n",
              "13                                 presiden plumpang             1  \n",
              "14   presiden koordinasi wapres tinjau   deputi bi...            1  \n",
              "15   inti presiden utama evakuasi korban tangan wa...            1  \n",
              "16  kepala dinas tanggulang bakar selamat dki jaka...            1  \n",
              "17  lansir  salah warga  pandi  bau bensin santer ...            1  \n",
              "18           pertamina aku investigasi sebab insiden             1  \n",
              "19   sebab jadi proses investigasi   area manager ...            1  \n",
              "20  50 orang alami luka tingkat parah api sambar k...            1  \n",
              "21  badan tanggulang bencana daerah  bpbd  dki jak...            1  \n",
              "22                            sebar enam titik ungsi             1  \n",
              "23   ungsi 579 jiwa   terang bpbd dki jakarta  sab...            1  \n",
              "24  - wakil ketua mpr ri dr h m hidayat nur wahid ...            2  \n",
              "25  temu ruang kerja wakil ketua mpr gedung nusant...            2  \n",
              "26   putus eksekusi bahkan  jaksa negeri  kejar  d...            2  \n",
              "27  hnw  abdul rasyid  calon jamaah umroh harap be...            2  \n",
              "28   berangkat mekah  banding terima kembali biaya...            2  \n",
              "29  harap perintah hadir perkara  bertanggungjawab...            2  \n",
              "30  hnw paham  betapa kecewa sedih jamaah gagal be...            2  \n",
              "31  umroh  hnw kerap bahas komisi viii dpr ri ment...            2  \n",
              "32  sayang haji perhati banding ibadah umroh ini a...            2  \n",
              "33   janji menteri agama  berangkat umroh hukum in...            2  \n",
              "34                                                               2  \n",
              "35  tempo co  jakarta - tim dokter sehat  dokkes  ...            3  \n",
              "36               posko dvi terima 14 kantong jenazah             3  \n",
              "37  tim dvi langsung identifikasi korban   kepala ...            3  \n",
              "38  jadi  dedi  tim dokkes polri kirim 5 ambulans ...            3  \n",
              "39  tim dokkes polri diri posko dvi rumah sakit po...            3  \n",
              "40   langkah clear hse  health safety environment ...            3  \n",
              "41                                   anggota 9 orang             3  \n",
              "42  alat toolkid bakar  drone  alat ambil sampel a...            3  \n",
              "43   diri dapur pos polisi sat brimobda pmj bantu ...            3  \n",
              "44  - ketua mpr ri ketua ikat motor  imi  wakil ke...            4  \n",
              "45   inspirasi klub otomotif kontribusi baik hidup...            4  \n",
              "46   selamat sahabat ahmad sahroni pilih ketua hdc...            4  \n",
              "47   kompetensi butuh pimpin maju organisasi hdci ...            4  \n",
              "48     firman santyabudi  wakapolda jawa brigjen pol             4  \n",
              "49  abiyoso seno aji  dirjen administrasi hukum ke...            4  "
            ]
          },
          "metadata": {},
          "output_type": "display_data"
        }
      ],
      "source": [
        "from IPython.display import display\n",
        "\n",
        "display(all_sentences_df.head(50))  "
      ]
    },
    {
      "cell_type": "code",
      "execution_count": null,
      "metadata": {},
      "outputs": [],
      "source": []
    }
  ],
  "metadata": {
    "colab": {
      "provenance": []
    },
    "kernelspec": {
      "display_name": "Python 3",
      "name": "python3"
    },
    "language_info": {
      "codemirror_mode": {
        "name": "ipython",
        "version": 3
      },
      "file_extension": ".py",
      "mimetype": "text/x-python",
      "name": "python",
      "nbconvert_exporter": "python",
      "pygments_lexer": "ipython3",
      "version": "3.11.5"
    }
  },
  "nbformat": 4,
  "nbformat_minor": 0
}
